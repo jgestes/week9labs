{
 "cells": [
  {
   "cell_type": "markdown",
   "id": "4d4b4347-9dc0-4db2-8da3-3af9d91680be",
   "metadata": {},
   "source": [
    "# Week 9: Instructor Led Lab\n",
    "Author: Jen Estes \\\n",
    "Course: BGEN 632 - Introduction to Python \\\n",
    "Term: Spring 2025 \\\n",
    "Due Date: April 28st, 2025 \n",
    "\n",
    "This notebook contains code for implementing statistical approaches in Python based on the requirements outlined by Dr. Newton in the BGEN632 Week 9 GitHub repo. While using data on 61 hospitals and employee personnel in California, this program preps the data and then completes descriptive statistics to help explore and understand the data. \n",
    "\n",
    "### Notebook Setup\n",
    "----"
   ]
  },
  {
   "cell_type": "code",
   "execution_count": 4,
   "id": "96544c0d-63bb-48df-b374-da2778724814",
   "metadata": {},
   "outputs": [],
   "source": [
    "# load modules\n",
    "import os\n",
    "import pandas as pd\n",
    "import numpy as np\n",
    "import matplotlib.pyplot as plt\n",
    "import scipy.stats as sts # for QQ plot\n",
    "from scipy.stats import pearsonr # correlation p-values\n",
    "from sklearn.linear_model import LinearRegression # regression output\n",
    "import statsmodels.formula.api as smf # ols regression"
   ]
  },
  {
   "cell_type": "code",
   "execution_count": 5,
   "id": "c1481fd1-f52f-43a8-a03e-4d9880a4d27e",
   "metadata": {},
   "outputs": [
    {
     "data": {
      "text/plain": [
       "'/Users/jenestes/Desktop/week9labs/data'"
      ]
     },
     "execution_count": 5,
     "metadata": {},
     "output_type": "execute_result"
    }
   ],
   "source": [
    "# set working directory\n",
    "os.chdir(\"/Users/jenestes/Desktop/week9labs/data\")   \n",
    "os.getcwd()  # confirm change"
   ]
  },
  {
   "cell_type": "markdown",
   "id": "fe4230ab-2932-4ed7-bf07-e53f5c76f792",
   "metadata": {},
   "source": [
    "## Merging the Data \n",
    "This section of my program loads both the Hospital and Personnel Data and inspects the tables, and then merges the two data frames on the `HospitalID` variable. Then, the specified columns are deleted and data types are converted to create the final DataFrame `new_merge`. "
   ]
  },
  {
   "cell_type": "code",
   "execution_count": 7,
   "id": "d85f18c6-0a36-4500-a723-9a7ed3a88f9b",
   "metadata": {},
   "outputs": [
    {
     "name": "stdout",
     "output_type": "stream",
     "text": [
      "<class 'pandas.core.frame.DataFrame'>\n",
      "RangeIndex: 61 entries, 0 to 60\n",
      "Data columns (total 14 columns):\n",
      " #   Column       Non-Null Count  Dtype  \n",
      "---  ------       --------------  -----  \n",
      " 0   HospitalID   61 non-null     int64  \n",
      " 1   Name         61 non-null     object \n",
      " 2   Zip          61 non-null     object \n",
      " 3   Website      61 non-null     object \n",
      " 4   TypeControl  61 non-null     object \n",
      " 5   Teaching     61 non-null     object \n",
      " 6   DonorType    61 non-null     object \n",
      " 7   NoFTE        61 non-null     float64\n",
      " 8   NetPatRev    61 non-null     float64\n",
      " 9   InOperExp    61 non-null     float64\n",
      " 10  OutOperExp   61 non-null     float64\n",
      " 11  OperRev      61 non-null     int64  \n",
      " 12  OperInc      61 non-null     int64  \n",
      " 13  AvlBeds      61 non-null     int64  \n",
      "dtypes: float64(4), int64(4), object(6)\n",
      "memory usage: 6.8+ KB\n"
     ]
    }
   ],
   "source": [
    "# load data - both files and inspect them\n",
    "# hospital data\n",
    "hospital_data = pd.read_csv(\"CaliforniaHospitalData.csv\")\n",
    "hospital_data.info()"
   ]
  },
  {
   "cell_type": "code",
   "execution_count": 8,
   "id": "f202a23d-756f-4298-8275-56c2f0624f22",
   "metadata": {},
   "outputs": [
    {
     "name": "stdout",
     "output_type": "stream",
     "text": [
      "<class 'pandas.core.frame.DataFrame'>\n",
      "RangeIndex: 64 entries, 0 to 63\n",
      "Data columns (total 12 columns):\n",
      " #   Column         Non-Null Count  Dtype \n",
      "---  ------         --------------  ----- \n",
      " 0   HospitalID     64 non-null     int64 \n",
      " 1   Work_ID        64 non-null     int64 \n",
      " 2   LastName       64 non-null     object\n",
      " 3   FirstName      64 non-null     object\n",
      " 4   Gender         64 non-null     object\n",
      " 5   PositionID     64 non-null     int64 \n",
      " 6   PositionTitle  64 non-null     object\n",
      " 7   Compensation   64 non-null     int64 \n",
      " 8   MaxTerm        64 non-null     int64 \n",
      " 9   StartDate      64 non-null     object\n",
      " 10  Phone          64 non-null     object\n",
      " 11  Email          64 non-null     object\n",
      "dtypes: int64(5), object(7)\n",
      "memory usage: 6.1+ KB\n"
     ]
    }
   ],
   "source": [
    "# personnel data\n",
    "personnel_data = pd.read_csv(\"CaliforniaHospitalData_Personnel.txt\", delimiter = \"\\t\")\n",
    "personnel_data.info()"
   ]
  },
  {
   "cell_type": "code",
   "execution_count": 9,
   "id": "ef59e660-e41a-47b0-9cb0-ae0a69f84133",
   "metadata": {},
   "outputs": [
    {
     "data": {
      "text/html": [
       "<div>\n",
       "<style scoped>\n",
       "    .dataframe tbody tr th:only-of-type {\n",
       "        vertical-align: middle;\n",
       "    }\n",
       "\n",
       "    .dataframe tbody tr th {\n",
       "        vertical-align: top;\n",
       "    }\n",
       "\n",
       "    .dataframe thead th {\n",
       "        text-align: right;\n",
       "    }\n",
       "</style>\n",
       "<table border=\"1\" class=\"dataframe\">\n",
       "  <thead>\n",
       "    <tr style=\"text-align: right;\">\n",
       "      <th></th>\n",
       "      <th>HospitalID</th>\n",
       "      <th>Name</th>\n",
       "      <th>Zip</th>\n",
       "      <th>Website</th>\n",
       "      <th>TypeControl</th>\n",
       "      <th>Teaching</th>\n",
       "      <th>DonorType</th>\n",
       "      <th>NoFTE</th>\n",
       "      <th>NetPatRev</th>\n",
       "      <th>InOperExp</th>\n",
       "      <th>...</th>\n",
       "      <th>LastName</th>\n",
       "      <th>FirstName</th>\n",
       "      <th>Gender</th>\n",
       "      <th>PositionID</th>\n",
       "      <th>PositionTitle</th>\n",
       "      <th>Compensation</th>\n",
       "      <th>MaxTerm</th>\n",
       "      <th>StartDate</th>\n",
       "      <th>Phone</th>\n",
       "      <th>Email</th>\n",
       "    </tr>\n",
       "  </thead>\n",
       "  <tbody>\n",
       "    <tr>\n",
       "      <th>0</th>\n",
       "      <td>45740</td>\n",
       "      <td>Mammoth Hospital</td>\n",
       "      <td>93546-0660</td>\n",
       "      <td>www.mammothhospital.com</td>\n",
       "      <td>District</td>\n",
       "      <td>Small/Rural</td>\n",
       "      <td>Charity</td>\n",
       "      <td>327.0</td>\n",
       "      <td>1.355202e+05</td>\n",
       "      <td>2.052343e+07</td>\n",
       "      <td>...</td>\n",
       "      <td>Web</td>\n",
       "      <td>David</td>\n",
       "      <td>M</td>\n",
       "      <td>4</td>\n",
       "      <td>Safety Inspection Member</td>\n",
       "      <td>23987</td>\n",
       "      <td>2</td>\n",
       "      <td>1/1/2012</td>\n",
       "      <td>785-532-2452</td>\n",
       "      <td>david.web@comenitymed.com</td>\n",
       "    </tr>\n",
       "    <tr>\n",
       "      <th>1</th>\n",
       "      <td>12145</td>\n",
       "      <td>Victor Valley Community Hospital</td>\n",
       "      <td>92392</td>\n",
       "      <td>www.vvch.org</td>\n",
       "      <td>Non Profit</td>\n",
       "      <td>Small/Rural</td>\n",
       "      <td>Charity</td>\n",
       "      <td>345.0</td>\n",
       "      <td>1.361567e+05</td>\n",
       "      <td>3.344754e+07</td>\n",
       "      <td>...</td>\n",
       "      <td>Rodriguez</td>\n",
       "      <td>Jose</td>\n",
       "      <td>M</td>\n",
       "      <td>1</td>\n",
       "      <td>Regional Representative</td>\n",
       "      <td>46978</td>\n",
       "      <td>4</td>\n",
       "      <td>1/1/2009</td>\n",
       "      <td>405-744-2238</td>\n",
       "      <td>jose.rodriguez@edihealth.com</td>\n",
       "    </tr>\n",
       "    <tr>\n",
       "      <th>2</th>\n",
       "      <td>25667</td>\n",
       "      <td>Pioneers Memorial Hospital</td>\n",
       "      <td>92227</td>\n",
       "      <td>www.pmhd.org</td>\n",
       "      <td>District</td>\n",
       "      <td>Small/Rural</td>\n",
       "      <td>Charity</td>\n",
       "      <td>601.2</td>\n",
       "      <td>1.970943e+05</td>\n",
       "      <td>3.725418e+07</td>\n",
       "      <td>...</td>\n",
       "      <td>Adamson</td>\n",
       "      <td>David</td>\n",
       "      <td>M</td>\n",
       "      <td>1</td>\n",
       "      <td>Regional Representative</td>\n",
       "      <td>46978</td>\n",
       "      <td>4</td>\n",
       "      <td>1/1/2012</td>\n",
       "      <td>785-532-7573</td>\n",
       "      <td>david.adamson@txbiomed.net</td>\n",
       "    </tr>\n",
       "    <tr>\n",
       "      <th>3</th>\n",
       "      <td>46996</td>\n",
       "      <td>Ridgecrest Regional Hospital</td>\n",
       "      <td>93555</td>\n",
       "      <td>www.rrh.org</td>\n",
       "      <td>Non Profit</td>\n",
       "      <td>Small/Rural</td>\n",
       "      <td>Charity</td>\n",
       "      <td>400.0</td>\n",
       "      <td>1.391704e+05</td>\n",
       "      <td>2.338557e+07</td>\n",
       "      <td>...</td>\n",
       "      <td>Roberts</td>\n",
       "      <td>Melissa</td>\n",
       "      <td>F</td>\n",
       "      <td>4</td>\n",
       "      <td>Safety Inspection Member</td>\n",
       "      <td>23987</td>\n",
       "      <td>2</td>\n",
       "      <td>1/1/2009</td>\n",
       "      <td>785-532-9779</td>\n",
       "      <td>melissa.roberts@txbiomed.net</td>\n",
       "    </tr>\n",
       "    <tr>\n",
       "      <th>4</th>\n",
       "      <td>37393</td>\n",
       "      <td>Barstow Community Hospital</td>\n",
       "      <td>92311</td>\n",
       "      <td>www.barstowhospital.com</td>\n",
       "      <td>Investor</td>\n",
       "      <td>Small/Rural</td>\n",
       "      <td>Charity</td>\n",
       "      <td>262.0</td>\n",
       "      <td>1.167978e+05</td>\n",
       "      <td>1.368450e+07</td>\n",
       "      <td>...</td>\n",
       "      <td>Iwata</td>\n",
       "      <td>Akira</td>\n",
       "      <td>M</td>\n",
       "      <td>1</td>\n",
       "      <td>Regional Representative</td>\n",
       "      <td>46978</td>\n",
       "      <td>4</td>\n",
       "      <td>1/1/2011</td>\n",
       "      <td>801-611-9161</td>\n",
       "      <td>akira.iwata@hsu.edu</td>\n",
       "    </tr>\n",
       "    <tr>\n",
       "      <th>...</th>\n",
       "      <td>...</td>\n",
       "      <td>...</td>\n",
       "      <td>...</td>\n",
       "      <td>...</td>\n",
       "      <td>...</td>\n",
       "      <td>...</td>\n",
       "      <td>...</td>\n",
       "      <td>...</td>\n",
       "      <td>...</td>\n",
       "      <td>...</td>\n",
       "      <td>...</td>\n",
       "      <td>...</td>\n",
       "      <td>...</td>\n",
       "      <td>...</td>\n",
       "      <td>...</td>\n",
       "      <td>...</td>\n",
       "      <td>...</td>\n",
       "      <td>...</td>\n",
       "      <td>...</td>\n",
       "      <td>...</td>\n",
       "      <td>...</td>\n",
       "    </tr>\n",
       "    <tr>\n",
       "      <th>56</th>\n",
       "      <td>32930</td>\n",
       "      <td>Scripps Mercy Hospital</td>\n",
       "      <td>92103</td>\n",
       "      <td>www.scrippshealth.org</td>\n",
       "      <td>Non Profit</td>\n",
       "      <td>Teaching</td>\n",
       "      <td>Alumni</td>\n",
       "      <td>2814.0</td>\n",
       "      <td>1.321032e+06</td>\n",
       "      <td>3.791029e+08</td>\n",
       "      <td>...</td>\n",
       "      <td>Manin</td>\n",
       "      <td>Emily</td>\n",
       "      <td>F</td>\n",
       "      <td>1</td>\n",
       "      <td>Regional Representative</td>\n",
       "      <td>46978</td>\n",
       "      <td>4</td>\n",
       "      <td>1/1/2011</td>\n",
       "      <td>801-223-6845</td>\n",
       "      <td>emily.manin@ihc.com</td>\n",
       "    </tr>\n",
       "    <tr>\n",
       "      <th>57</th>\n",
       "      <td>31032</td>\n",
       "      <td>Long Beach Memorial &amp; Miller Children's Hospital</td>\n",
       "      <td>90806</td>\n",
       "      <td>www.memorialcare.org</td>\n",
       "      <td>Non Profit</td>\n",
       "      <td>Teaching</td>\n",
       "      <td>Alumni</td>\n",
       "      <td>5218.0</td>\n",
       "      <td>1.187022e+06</td>\n",
       "      <td>2.912481e+08</td>\n",
       "      <td>...</td>\n",
       "      <td>Dong</td>\n",
       "      <td>HongWei</td>\n",
       "      <td>F</td>\n",
       "      <td>4</td>\n",
       "      <td>Safety Inspection Member</td>\n",
       "      <td>23987</td>\n",
       "      <td>2</td>\n",
       "      <td>1/1/2012</td>\n",
       "      <td>479-354-4864</td>\n",
       "      <td>hongwei.dong@brokenhealth.com</td>\n",
       "    </tr>\n",
       "    <tr>\n",
       "      <th>58</th>\n",
       "      <td>22460</td>\n",
       "      <td>Stanford Hospital &amp; Clinics</td>\n",
       "      <td>94305</td>\n",
       "      <td>stanfordhospital.org</td>\n",
       "      <td>Non Profit</td>\n",
       "      <td>Teaching</td>\n",
       "      <td>Alumni</td>\n",
       "      <td>6392.0</td>\n",
       "      <td>4.333934e+06</td>\n",
       "      <td>9.289621e+08</td>\n",
       "      <td>...</td>\n",
       "      <td>Smith</td>\n",
       "      <td>Mary</td>\n",
       "      <td>F</td>\n",
       "      <td>4</td>\n",
       "      <td>Safety Inspection Member</td>\n",
       "      <td>23987</td>\n",
       "      <td>2</td>\n",
       "      <td>1/1/2012</td>\n",
       "      <td>469-767-5485</td>\n",
       "      <td>mary.smith@ihc.com</td>\n",
       "    </tr>\n",
       "    <tr>\n",
       "      <th>59</th>\n",
       "      <td>33192</td>\n",
       "      <td>California Pacific Medical Center - Pacific Ca...</td>\n",
       "      <td>94115</td>\n",
       "      <td>www.cpmc.org</td>\n",
       "      <td>Non Profit</td>\n",
       "      <td>Teaching</td>\n",
       "      <td>Alumni</td>\n",
       "      <td>1565.1</td>\n",
       "      <td>2.736281e+06</td>\n",
       "      <td>6.337903e+08</td>\n",
       "      <td>...</td>\n",
       "      <td>Fourier</td>\n",
       "      <td>Craig</td>\n",
       "      <td>M</td>\n",
       "      <td>1</td>\n",
       "      <td>Regional Representative</td>\n",
       "      <td>46978</td>\n",
       "      <td>4</td>\n",
       "      <td>1/1/2011</td>\n",
       "      <td>503-235-4877</td>\n",
       "      <td>craig.fourier@comenitymed.com</td>\n",
       "    </tr>\n",
       "    <tr>\n",
       "      <th>60</th>\n",
       "      <td>38900</td>\n",
       "      <td>Cedars-Sinai Medical Center</td>\n",
       "      <td>90048</td>\n",
       "      <td>www.csmc.edu</td>\n",
       "      <td>Non Profit</td>\n",
       "      <td>Teaching</td>\n",
       "      <td>Alumni</td>\n",
       "      <td>8000.0</td>\n",
       "      <td>4.662582e+06</td>\n",
       "      <td>1.285631e+09</td>\n",
       "      <td>...</td>\n",
       "      <td>Paanua</td>\n",
       "      <td>Kaaluai</td>\n",
       "      <td>M</td>\n",
       "      <td>1</td>\n",
       "      <td>Regional Representative</td>\n",
       "      <td>46978</td>\n",
       "      <td>4</td>\n",
       "      <td>1/1/2011</td>\n",
       "      <td>479-684-1883</td>\n",
       "      <td>kaaluai.paanua@brokenhealth.com</td>\n",
       "    </tr>\n",
       "  </tbody>\n",
       "</table>\n",
       "<p>61 rows × 25 columns</p>\n",
       "</div>"
      ],
      "text/plain": [
       "    HospitalID                                               Name         Zip  \\\n",
       "0        45740                                   Mammoth Hospital  93546-0660   \n",
       "1        12145                   Victor Valley Community Hospital       92392   \n",
       "2        25667                         Pioneers Memorial Hospital       92227   \n",
       "3        46996                       Ridgecrest Regional Hospital       93555   \n",
       "4        37393                         Barstow Community Hospital       92311   \n",
       "..         ...                                                ...         ...   \n",
       "56       32930                             Scripps Mercy Hospital       92103   \n",
       "57       31032   Long Beach Memorial & Miller Children's Hospital       90806   \n",
       "58       22460                        Stanford Hospital & Clinics       94305   \n",
       "59       33192  California Pacific Medical Center - Pacific Ca...       94115   \n",
       "60       38900                        Cedars-Sinai Medical Center       90048   \n",
       "\n",
       "                    Website TypeControl     Teaching DonorType   NoFTE  \\\n",
       "0   www.mammothhospital.com    District  Small/Rural   Charity   327.0   \n",
       "1              www.vvch.org  Non Profit  Small/Rural   Charity   345.0   \n",
       "2              www.pmhd.org    District  Small/Rural   Charity   601.2   \n",
       "3               www.rrh.org  Non Profit  Small/Rural   Charity   400.0   \n",
       "4   www.barstowhospital.com    Investor  Small/Rural   Charity   262.0   \n",
       "..                      ...         ...          ...       ...     ...   \n",
       "56    www.scrippshealth.org  Non Profit     Teaching    Alumni  2814.0   \n",
       "57     www.memorialcare.org  Non Profit     Teaching    Alumni  5218.0   \n",
       "58     stanfordhospital.org  Non Profit     Teaching    Alumni  6392.0   \n",
       "59             www.cpmc.org  Non Profit     Teaching    Alumni  1565.1   \n",
       "60             www.csmc.edu  Non Profit     Teaching    Alumni  8000.0   \n",
       "\n",
       "       NetPatRev     InOperExp  ...   LastName  FirstName  Gender  PositionID  \\\n",
       "0   1.355202e+05  2.052343e+07  ...        Web      David       M           4   \n",
       "1   1.361567e+05  3.344754e+07  ...  Rodriguez       Jose       M           1   \n",
       "2   1.970943e+05  3.725418e+07  ...    Adamson      David       M           1   \n",
       "3   1.391704e+05  2.338557e+07  ...    Roberts    Melissa       F           4   \n",
       "4   1.167978e+05  1.368450e+07  ...      Iwata      Akira       M           1   \n",
       "..           ...           ...  ...        ...        ...     ...         ...   \n",
       "56  1.321032e+06  3.791029e+08  ...      Manin      Emily       F           1   \n",
       "57  1.187022e+06  2.912481e+08  ...       Dong    HongWei       F           4   \n",
       "58  4.333934e+06  9.289621e+08  ...      Smith       Mary       F           4   \n",
       "59  2.736281e+06  6.337903e+08  ...    Fourier      Craig       M           1   \n",
       "60  4.662582e+06  1.285631e+09  ...     Paanua    Kaaluai       M           1   \n",
       "\n",
       "               PositionTitle Compensation MaxTerm StartDate         Phone  \\\n",
       "0   Safety Inspection Member        23987       2  1/1/2012  785-532-2452   \n",
       "1    Regional Representative        46978       4  1/1/2009  405-744-2238   \n",
       "2    Regional Representative        46978       4  1/1/2012  785-532-7573   \n",
       "3   Safety Inspection Member        23987       2  1/1/2009  785-532-9779   \n",
       "4    Regional Representative        46978       4  1/1/2011  801-611-9161   \n",
       "..                       ...          ...     ...       ...           ...   \n",
       "56   Regional Representative        46978       4  1/1/2011  801-223-6845   \n",
       "57  Safety Inspection Member        23987       2  1/1/2012  479-354-4864   \n",
       "58  Safety Inspection Member        23987       2  1/1/2012  469-767-5485   \n",
       "59   Regional Representative        46978       4  1/1/2011  503-235-4877   \n",
       "60   Regional Representative        46978       4  1/1/2011  479-684-1883   \n",
       "\n",
       "                              Email  \n",
       "0         david.web@comenitymed.com  \n",
       "1      jose.rodriguez@edihealth.com  \n",
       "2        david.adamson@txbiomed.net  \n",
       "3      melissa.roberts@txbiomed.net  \n",
       "4               akira.iwata@hsu.edu  \n",
       "..                              ...  \n",
       "56              emily.manin@ihc.com  \n",
       "57    hongwei.dong@brokenhealth.com  \n",
       "58               mary.smith@ihc.com  \n",
       "59    craig.fourier@comenitymed.com  \n",
       "60  kaaluai.paanua@brokenhealth.com  \n",
       "\n",
       "[61 rows x 25 columns]"
      ]
     },
     "execution_count": 9,
     "metadata": {},
     "output_type": "execute_result"
    }
   ],
   "source": [
    "# merging the data on HospitalID\n",
    "merged_hospital = hospital_data.merge(personnel_data, how = 'inner', on = \"HospitalID\")\n",
    "merged_hospital"
   ]
  },
  {
   "cell_type": "markdown",
   "id": "865805c6-29aa-4100-9a5e-61838a289d86",
   "metadata": {},
   "source": [
    "## Prep Data and Add A New Record"
   ]
  },
  {
   "cell_type": "code",
   "execution_count": 11,
   "id": "c0031bfc-4307-493f-a434-1ffa6f2bb5bb",
   "metadata": {},
   "outputs": [
    {
     "data": {
      "text/html": [
       "<div>\n",
       "<style scoped>\n",
       "    .dataframe tbody tr th:only-of-type {\n",
       "        vertical-align: middle;\n",
       "    }\n",
       "\n",
       "    .dataframe tbody tr th {\n",
       "        vertical-align: top;\n",
       "    }\n",
       "\n",
       "    .dataframe thead th {\n",
       "        text-align: right;\n",
       "    }\n",
       "</style>\n",
       "<table border=\"1\" class=\"dataframe\">\n",
       "  <thead>\n",
       "    <tr style=\"text-align: right;\">\n",
       "      <th></th>\n",
       "      <th>HospitalID</th>\n",
       "      <th>Name</th>\n",
       "      <th>Zip</th>\n",
       "      <th>TypeControl</th>\n",
       "      <th>Teaching</th>\n",
       "      <th>DonorType</th>\n",
       "      <th>NoFTE</th>\n",
       "      <th>NetPatRev</th>\n",
       "      <th>InOperExp</th>\n",
       "      <th>OutOperExp</th>\n",
       "      <th>...</th>\n",
       "      <th>AvlBeds</th>\n",
       "      <th>LastName</th>\n",
       "      <th>FirstName</th>\n",
       "      <th>Gender</th>\n",
       "      <th>PositionTitle</th>\n",
       "      <th>Compensation</th>\n",
       "      <th>MaxTerm</th>\n",
       "      <th>StartDate</th>\n",
       "      <th>Phone</th>\n",
       "      <th>Email</th>\n",
       "    </tr>\n",
       "  </thead>\n",
       "  <tbody>\n",
       "    <tr>\n",
       "      <th>0</th>\n",
       "      <td>45740</td>\n",
       "      <td>Mammoth Hospital</td>\n",
       "      <td>93546-0660</td>\n",
       "      <td>District</td>\n",
       "      <td>Small/Rural</td>\n",
       "      <td>Charity</td>\n",
       "      <td>327.0</td>\n",
       "      <td>1.355202e+05</td>\n",
       "      <td>2.052343e+07</td>\n",
       "      <td>3.491622e+07</td>\n",
       "      <td>...</td>\n",
       "      <td>15</td>\n",
       "      <td>Web</td>\n",
       "      <td>David</td>\n",
       "      <td>M</td>\n",
       "      <td>Safety Inspection Member</td>\n",
       "      <td>23987</td>\n",
       "      <td>2</td>\n",
       "      <td>1/1/2012</td>\n",
       "      <td>785-532-2452</td>\n",
       "      <td>david.web@comenitymed.com</td>\n",
       "    </tr>\n",
       "    <tr>\n",
       "      <th>1</th>\n",
       "      <td>12145</td>\n",
       "      <td>Victor Valley Community Hospital</td>\n",
       "      <td>92392</td>\n",
       "      <td>Non Profit</td>\n",
       "      <td>Small/Rural</td>\n",
       "      <td>Charity</td>\n",
       "      <td>345.0</td>\n",
       "      <td>1.361567e+05</td>\n",
       "      <td>3.344754e+07</td>\n",
       "      <td>2.034860e+07</td>\n",
       "      <td>...</td>\n",
       "      <td>99</td>\n",
       "      <td>Rodriguez</td>\n",
       "      <td>Jose</td>\n",
       "      <td>M</td>\n",
       "      <td>Regional Representative</td>\n",
       "      <td>46978</td>\n",
       "      <td>4</td>\n",
       "      <td>1/1/2009</td>\n",
       "      <td>405-744-2238</td>\n",
       "      <td>jose.rodriguez@edihealth.com</td>\n",
       "    </tr>\n",
       "    <tr>\n",
       "      <th>2</th>\n",
       "      <td>25667</td>\n",
       "      <td>Pioneers Memorial Hospital</td>\n",
       "      <td>92227</td>\n",
       "      <td>District</td>\n",
       "      <td>Small/Rural</td>\n",
       "      <td>Charity</td>\n",
       "      <td>601.2</td>\n",
       "      <td>1.970943e+05</td>\n",
       "      <td>3.725418e+07</td>\n",
       "      <td>3.783245e+07</td>\n",
       "      <td>...</td>\n",
       "      <td>107</td>\n",
       "      <td>Adamson</td>\n",
       "      <td>David</td>\n",
       "      <td>M</td>\n",
       "      <td>Regional Representative</td>\n",
       "      <td>46978</td>\n",
       "      <td>4</td>\n",
       "      <td>1/1/2012</td>\n",
       "      <td>785-532-7573</td>\n",
       "      <td>david.adamson@txbiomed.net</td>\n",
       "    </tr>\n",
       "    <tr>\n",
       "      <th>3</th>\n",
       "      <td>46996</td>\n",
       "      <td>Ridgecrest Regional Hospital</td>\n",
       "      <td>93555</td>\n",
       "      <td>Non Profit</td>\n",
       "      <td>Small/Rural</td>\n",
       "      <td>Charity</td>\n",
       "      <td>400.0</td>\n",
       "      <td>1.391704e+05</td>\n",
       "      <td>2.338557e+07</td>\n",
       "      <td>2.466136e+07</td>\n",
       "      <td>...</td>\n",
       "      <td>55</td>\n",
       "      <td>Roberts</td>\n",
       "      <td>Melissa</td>\n",
       "      <td>F</td>\n",
       "      <td>Safety Inspection Member</td>\n",
       "      <td>23987</td>\n",
       "      <td>2</td>\n",
       "      <td>1/1/2009</td>\n",
       "      <td>785-532-9779</td>\n",
       "      <td>melissa.roberts@txbiomed.net</td>\n",
       "    </tr>\n",
       "    <tr>\n",
       "      <th>4</th>\n",
       "      <td>37393</td>\n",
       "      <td>Barstow Community Hospital</td>\n",
       "      <td>92311</td>\n",
       "      <td>Investor</td>\n",
       "      <td>Small/Rural</td>\n",
       "      <td>Charity</td>\n",
       "      <td>262.0</td>\n",
       "      <td>1.167978e+05</td>\n",
       "      <td>1.368450e+07</td>\n",
       "      <td>1.515999e+07</td>\n",
       "      <td>...</td>\n",
       "      <td>42</td>\n",
       "      <td>Iwata</td>\n",
       "      <td>Akira</td>\n",
       "      <td>M</td>\n",
       "      <td>Regional Representative</td>\n",
       "      <td>46978</td>\n",
       "      <td>4</td>\n",
       "      <td>1/1/2011</td>\n",
       "      <td>801-611-9161</td>\n",
       "      <td>akira.iwata@hsu.edu</td>\n",
       "    </tr>\n",
       "    <tr>\n",
       "      <th>...</th>\n",
       "      <td>...</td>\n",
       "      <td>...</td>\n",
       "      <td>...</td>\n",
       "      <td>...</td>\n",
       "      <td>...</td>\n",
       "      <td>...</td>\n",
       "      <td>...</td>\n",
       "      <td>...</td>\n",
       "      <td>...</td>\n",
       "      <td>...</td>\n",
       "      <td>...</td>\n",
       "      <td>...</td>\n",
       "      <td>...</td>\n",
       "      <td>...</td>\n",
       "      <td>...</td>\n",
       "      <td>...</td>\n",
       "      <td>...</td>\n",
       "      <td>...</td>\n",
       "      <td>...</td>\n",
       "      <td>...</td>\n",
       "      <td>...</td>\n",
       "    </tr>\n",
       "    <tr>\n",
       "      <th>56</th>\n",
       "      <td>32930</td>\n",
       "      <td>Scripps Mercy Hospital</td>\n",
       "      <td>92103</td>\n",
       "      <td>Non Profit</td>\n",
       "      <td>Teaching</td>\n",
       "      <td>Alumni</td>\n",
       "      <td>2814.0</td>\n",
       "      <td>1.321032e+06</td>\n",
       "      <td>3.791029e+08</td>\n",
       "      <td>1.064302e+08</td>\n",
       "      <td>...</td>\n",
       "      <td>530</td>\n",
       "      <td>Manin</td>\n",
       "      <td>Emily</td>\n",
       "      <td>F</td>\n",
       "      <td>Regional Representative</td>\n",
       "      <td>46978</td>\n",
       "      <td>4</td>\n",
       "      <td>1/1/2011</td>\n",
       "      <td>801-223-6845</td>\n",
       "      <td>emily.manin@ihc.com</td>\n",
       "    </tr>\n",
       "    <tr>\n",
       "      <th>57</th>\n",
       "      <td>31032</td>\n",
       "      <td>Long Beach Memorial &amp; Miller Children's Hospital</td>\n",
       "      <td>90806</td>\n",
       "      <td>Non Profit</td>\n",
       "      <td>Teaching</td>\n",
       "      <td>Alumni</td>\n",
       "      <td>5218.0</td>\n",
       "      <td>1.187022e+06</td>\n",
       "      <td>2.912481e+08</td>\n",
       "      <td>1.093286e+08</td>\n",
       "      <td>...</td>\n",
       "      <td>462</td>\n",
       "      <td>Dong</td>\n",
       "      <td>HongWei</td>\n",
       "      <td>F</td>\n",
       "      <td>Safety Inspection Member</td>\n",
       "      <td>23987</td>\n",
       "      <td>2</td>\n",
       "      <td>1/1/2012</td>\n",
       "      <td>479-354-4864</td>\n",
       "      <td>hongwei.dong@brokenhealth.com</td>\n",
       "    </tr>\n",
       "    <tr>\n",
       "      <th>58</th>\n",
       "      <td>22460</td>\n",
       "      <td>Stanford Hospital &amp; Clinics</td>\n",
       "      <td>94305</td>\n",
       "      <td>Non Profit</td>\n",
       "      <td>Teaching</td>\n",
       "      <td>Alumni</td>\n",
       "      <td>6392.0</td>\n",
       "      <td>4.333934e+06</td>\n",
       "      <td>9.289621e+08</td>\n",
       "      <td>6.621559e+08</td>\n",
       "      <td>...</td>\n",
       "      <td>445</td>\n",
       "      <td>Smith</td>\n",
       "      <td>Mary</td>\n",
       "      <td>F</td>\n",
       "      <td>Safety Inspection Member</td>\n",
       "      <td>23987</td>\n",
       "      <td>2</td>\n",
       "      <td>1/1/2012</td>\n",
       "      <td>469-767-5485</td>\n",
       "      <td>mary.smith@ihc.com</td>\n",
       "    </tr>\n",
       "    <tr>\n",
       "      <th>59</th>\n",
       "      <td>33192</td>\n",
       "      <td>California Pacific Medical Center - Pacific Ca...</td>\n",
       "      <td>94115</td>\n",
       "      <td>Non Profit</td>\n",
       "      <td>Teaching</td>\n",
       "      <td>Alumni</td>\n",
       "      <td>1565.1</td>\n",
       "      <td>2.736281e+06</td>\n",
       "      <td>6.337903e+08</td>\n",
       "      <td>2.960207e+08</td>\n",
       "      <td>...</td>\n",
       "      <td>730</td>\n",
       "      <td>Fourier</td>\n",
       "      <td>Craig</td>\n",
       "      <td>M</td>\n",
       "      <td>Regional Representative</td>\n",
       "      <td>46978</td>\n",
       "      <td>4</td>\n",
       "      <td>1/1/2011</td>\n",
       "      <td>503-235-4877</td>\n",
       "      <td>craig.fourier@comenitymed.com</td>\n",
       "    </tr>\n",
       "    <tr>\n",
       "      <th>60</th>\n",
       "      <td>38900</td>\n",
       "      <td>Cedars-Sinai Medical Center</td>\n",
       "      <td>90048</td>\n",
       "      <td>Non Profit</td>\n",
       "      <td>Teaching</td>\n",
       "      <td>Alumni</td>\n",
       "      <td>8000.0</td>\n",
       "      <td>4.662582e+06</td>\n",
       "      <td>1.285631e+09</td>\n",
       "      <td>4.616758e+08</td>\n",
       "      <td>...</td>\n",
       "      <td>909</td>\n",
       "      <td>Paanua</td>\n",
       "      <td>Kaaluai</td>\n",
       "      <td>M</td>\n",
       "      <td>Regional Representative</td>\n",
       "      <td>46978</td>\n",
       "      <td>4</td>\n",
       "      <td>1/1/2011</td>\n",
       "      <td>479-684-1883</td>\n",
       "      <td>kaaluai.paanua@brokenhealth.com</td>\n",
       "    </tr>\n",
       "  </tbody>\n",
       "</table>\n",
       "<p>61 rows × 22 columns</p>\n",
       "</div>"
      ],
      "text/plain": [
       "    HospitalID                                               Name         Zip  \\\n",
       "0        45740                                   Mammoth Hospital  93546-0660   \n",
       "1        12145                   Victor Valley Community Hospital       92392   \n",
       "2        25667                         Pioneers Memorial Hospital       92227   \n",
       "3        46996                       Ridgecrest Regional Hospital       93555   \n",
       "4        37393                         Barstow Community Hospital       92311   \n",
       "..         ...                                                ...         ...   \n",
       "56       32930                             Scripps Mercy Hospital       92103   \n",
       "57       31032   Long Beach Memorial & Miller Children's Hospital       90806   \n",
       "58       22460                        Stanford Hospital & Clinics       94305   \n",
       "59       33192  California Pacific Medical Center - Pacific Ca...       94115   \n",
       "60       38900                        Cedars-Sinai Medical Center       90048   \n",
       "\n",
       "   TypeControl     Teaching DonorType   NoFTE     NetPatRev     InOperExp  \\\n",
       "0     District  Small/Rural   Charity   327.0  1.355202e+05  2.052343e+07   \n",
       "1   Non Profit  Small/Rural   Charity   345.0  1.361567e+05  3.344754e+07   \n",
       "2     District  Small/Rural   Charity   601.2  1.970943e+05  3.725418e+07   \n",
       "3   Non Profit  Small/Rural   Charity   400.0  1.391704e+05  2.338557e+07   \n",
       "4     Investor  Small/Rural   Charity   262.0  1.167978e+05  1.368450e+07   \n",
       "..         ...          ...       ...     ...           ...           ...   \n",
       "56  Non Profit     Teaching    Alumni  2814.0  1.321032e+06  3.791029e+08   \n",
       "57  Non Profit     Teaching    Alumni  5218.0  1.187022e+06  2.912481e+08   \n",
       "58  Non Profit     Teaching    Alumni  6392.0  4.333934e+06  9.289621e+08   \n",
       "59  Non Profit     Teaching    Alumni  1565.1  2.736281e+06  6.337903e+08   \n",
       "60  Non Profit     Teaching    Alumni  8000.0  4.662582e+06  1.285631e+09   \n",
       "\n",
       "      OutOperExp  ...  AvlBeds   LastName  FirstName Gender  \\\n",
       "0   3.491622e+07  ...       15        Web      David      M   \n",
       "1   2.034860e+07  ...       99  Rodriguez       Jose      M   \n",
       "2   3.783245e+07  ...      107    Adamson      David      M   \n",
       "3   2.466136e+07  ...       55    Roberts    Melissa      F   \n",
       "4   1.515999e+07  ...       42      Iwata      Akira      M   \n",
       "..           ...  ...      ...        ...        ...    ...   \n",
       "56  1.064302e+08  ...      530      Manin      Emily      F   \n",
       "57  1.093286e+08  ...      462       Dong    HongWei      F   \n",
       "58  6.621559e+08  ...      445      Smith       Mary      F   \n",
       "59  2.960207e+08  ...      730    Fourier      Craig      M   \n",
       "60  4.616758e+08  ...      909     Paanua    Kaaluai      M   \n",
       "\n",
       "               PositionTitle Compensation MaxTerm  StartDate         Phone  \\\n",
       "0   Safety Inspection Member        23987       2   1/1/2012  785-532-2452   \n",
       "1    Regional Representative        46978       4   1/1/2009  405-744-2238   \n",
       "2    Regional Representative        46978       4   1/1/2012  785-532-7573   \n",
       "3   Safety Inspection Member        23987       2   1/1/2009  785-532-9779   \n",
       "4    Regional Representative        46978       4   1/1/2011  801-611-9161   \n",
       "..                       ...          ...     ...        ...           ...   \n",
       "56   Regional Representative        46978       4   1/1/2011  801-223-6845   \n",
       "57  Safety Inspection Member        23987       2   1/1/2012  479-354-4864   \n",
       "58  Safety Inspection Member        23987       2   1/1/2012  469-767-5485   \n",
       "59   Regional Representative        46978       4   1/1/2011  503-235-4877   \n",
       "60   Regional Representative        46978       4   1/1/2011  479-684-1883   \n",
       "\n",
       "                              Email  \n",
       "0         david.web@comenitymed.com  \n",
       "1      jose.rodriguez@edihealth.com  \n",
       "2        david.adamson@txbiomed.net  \n",
       "3      melissa.roberts@txbiomed.net  \n",
       "4               akira.iwata@hsu.edu  \n",
       "..                              ...  \n",
       "56              emily.manin@ihc.com  \n",
       "57    hongwei.dong@brokenhealth.com  \n",
       "58               mary.smith@ihc.com  \n",
       "59    craig.fourier@comenitymed.com  \n",
       "60  kaaluai.paanua@brokenhealth.com  \n",
       "\n",
       "[61 rows x 22 columns]"
      ]
     },
     "execution_count": 11,
     "metadata": {},
     "output_type": "execute_result"
    }
   ],
   "source": [
    "# removing columns- Work_ID, PositionID, Website\n",
    "final_hospital = merged_hospital.drop(['Work_ID', 'PositionID', 'Website'], axis = 1)\n",
    "final_hospital"
   ]
  },
  {
   "cell_type": "code",
   "execution_count": 12,
   "id": "e9a87b3b-0e9f-4b73-86f7-b3722e37e4e3",
   "metadata": {},
   "outputs": [
    {
     "data": {
      "text/plain": [
       "Index(['HospitalID', 'Name', 'Zip', 'TypeControl', 'Teaching', 'DonorType',\n",
       "       'NoFTE', 'NetPatRev', 'InOperExp', 'OutOperExp', 'OperRev', 'OperInc',\n",
       "       'AvlBeds', 'LastName', 'FirstName', 'Gender', 'PositionTitle',\n",
       "       'Compensation', 'MaxTerm', 'StartDate', 'Phone', 'Email'],\n",
       "      dtype='object')"
      ]
     },
     "execution_count": 12,
     "metadata": {},
     "output_type": "execute_result"
    }
   ],
   "source": [
    "# getting column names to make sure record inserted correctly\n",
    "final_hospital.columns"
   ]
  },
  {
   "cell_type": "code",
   "execution_count": 16,
   "id": "ba4c4df6-9483-4a05-a517-eba55c0bcbbe",
   "metadata": {},
   "outputs": [],
   "source": [
    "# inserting myself into new row\n",
    "new_row = pd.DataFrame({'HospitalID': [38798],\n",
    "                         'Name': [\"Goleta Valley Cottage Hospital\"],\n",
    "                         'Zip':[93111],\n",
    "                         'TypeControl': [\"Non Profit\"],\n",
    "                         'Teaching': [\"Small/Rural\"],\n",
    "                         'DonorType': [\"Charity\"],\n",
    "                         'NoFTE': [288.0],\n",
    "                         'NetPatRev': [335179.5574],\n",
    "                         'InOperExp': [53589036.09],\n",
    "                         'OutOperExp': [67030147.91],\n",
    "                         'OperRev': [126303054],\n",
    "                         'OperInc': [5683870],\n",
    "                         'AvlBeds': [119],\n",
    "                         'LastName': [\"Estes\"], \n",
    "                         'FirstName': [\"Jen\"],\n",
    "                         'Gender': [\"F\"],\n",
    "                        'PositionTitle': [\"Regional Representative\"],\n",
    "                        'Compensation': [46978],\n",
    "                        'MaxTerm': [4],\n",
    "                        'StartDate': [\"4/23/2025\"],\n",
    "                        'Phone': [\"425-505-1130\"],\n",
    "                        'Email': [\"bigred0606@gmail.com\"]},\n",
    "                        index = [28]\n",
    "                       )"
   ]
  },
  {
   "cell_type": "code",
   "execution_count": 22,
   "id": "f95154b0-c5ee-4edc-80cc-0b81cf903864",
   "metadata": {},
   "outputs": [
    {
     "data": {
      "text/html": [
       "<div>\n",
       "<style scoped>\n",
       "    .dataframe tbody tr th:only-of-type {\n",
       "        vertical-align: middle;\n",
       "    }\n",
       "\n",
       "    .dataframe tbody tr th {\n",
       "        vertical-align: top;\n",
       "    }\n",
       "\n",
       "    .dataframe thead th {\n",
       "        text-align: right;\n",
       "    }\n",
       "</style>\n",
       "<table border=\"1\" class=\"dataframe\">\n",
       "  <thead>\n",
       "    <tr style=\"text-align: right;\">\n",
       "      <th></th>\n",
       "      <th>HospitalID</th>\n",
       "      <th>Name</th>\n",
       "      <th>Zip</th>\n",
       "      <th>TypeControl</th>\n",
       "      <th>Teaching</th>\n",
       "      <th>DonorType</th>\n",
       "      <th>NoFTE</th>\n",
       "      <th>NetPatRev</th>\n",
       "      <th>InOperExp</th>\n",
       "      <th>OutOperExp</th>\n",
       "      <th>...</th>\n",
       "      <th>AvlBeds</th>\n",
       "      <th>LastName</th>\n",
       "      <th>FirstName</th>\n",
       "      <th>Gender</th>\n",
       "      <th>PositionTitle</th>\n",
       "      <th>Compensation</th>\n",
       "      <th>MaxTerm</th>\n",
       "      <th>StartDate</th>\n",
       "      <th>Phone</th>\n",
       "      <th>Email</th>\n",
       "    </tr>\n",
       "  </thead>\n",
       "  <tbody>\n",
       "    <tr>\n",
       "      <th>0</th>\n",
       "      <td>45740</td>\n",
       "      <td>Mammoth Hospital</td>\n",
       "      <td>93546-0660</td>\n",
       "      <td>District</td>\n",
       "      <td>Small/Rural</td>\n",
       "      <td>Charity</td>\n",
       "      <td>327.0</td>\n",
       "      <td>1.355202e+05</td>\n",
       "      <td>2.052343e+07</td>\n",
       "      <td>3.491622e+07</td>\n",
       "      <td>...</td>\n",
       "      <td>15</td>\n",
       "      <td>Web</td>\n",
       "      <td>David</td>\n",
       "      <td>M</td>\n",
       "      <td>Safety Inspection Member</td>\n",
       "      <td>23987</td>\n",
       "      <td>2</td>\n",
       "      <td>1/1/2012</td>\n",
       "      <td>785-532-2452</td>\n",
       "      <td>david.web@comenitymed.com</td>\n",
       "    </tr>\n",
       "    <tr>\n",
       "      <th>1</th>\n",
       "      <td>12145</td>\n",
       "      <td>Victor Valley Community Hospital</td>\n",
       "      <td>92392</td>\n",
       "      <td>Non Profit</td>\n",
       "      <td>Small/Rural</td>\n",
       "      <td>Charity</td>\n",
       "      <td>345.0</td>\n",
       "      <td>1.361567e+05</td>\n",
       "      <td>3.344754e+07</td>\n",
       "      <td>2.034860e+07</td>\n",
       "      <td>...</td>\n",
       "      <td>99</td>\n",
       "      <td>Rodriguez</td>\n",
       "      <td>Jose</td>\n",
       "      <td>M</td>\n",
       "      <td>Regional Representative</td>\n",
       "      <td>46978</td>\n",
       "      <td>4</td>\n",
       "      <td>1/1/2009</td>\n",
       "      <td>405-744-2238</td>\n",
       "      <td>jose.rodriguez@edihealth.com</td>\n",
       "    </tr>\n",
       "    <tr>\n",
       "      <th>2</th>\n",
       "      <td>25667</td>\n",
       "      <td>Pioneers Memorial Hospital</td>\n",
       "      <td>92227</td>\n",
       "      <td>District</td>\n",
       "      <td>Small/Rural</td>\n",
       "      <td>Charity</td>\n",
       "      <td>601.2</td>\n",
       "      <td>1.970943e+05</td>\n",
       "      <td>3.725418e+07</td>\n",
       "      <td>3.783245e+07</td>\n",
       "      <td>...</td>\n",
       "      <td>107</td>\n",
       "      <td>Adamson</td>\n",
       "      <td>David</td>\n",
       "      <td>M</td>\n",
       "      <td>Regional Representative</td>\n",
       "      <td>46978</td>\n",
       "      <td>4</td>\n",
       "      <td>1/1/2012</td>\n",
       "      <td>785-532-7573</td>\n",
       "      <td>david.adamson@txbiomed.net</td>\n",
       "    </tr>\n",
       "    <tr>\n",
       "      <th>3</th>\n",
       "      <td>46996</td>\n",
       "      <td>Ridgecrest Regional Hospital</td>\n",
       "      <td>93555</td>\n",
       "      <td>Non Profit</td>\n",
       "      <td>Small/Rural</td>\n",
       "      <td>Charity</td>\n",
       "      <td>400.0</td>\n",
       "      <td>1.391704e+05</td>\n",
       "      <td>2.338557e+07</td>\n",
       "      <td>2.466136e+07</td>\n",
       "      <td>...</td>\n",
       "      <td>55</td>\n",
       "      <td>Roberts</td>\n",
       "      <td>Melissa</td>\n",
       "      <td>F</td>\n",
       "      <td>Safety Inspection Member</td>\n",
       "      <td>23987</td>\n",
       "      <td>2</td>\n",
       "      <td>1/1/2009</td>\n",
       "      <td>785-532-9779</td>\n",
       "      <td>melissa.roberts@txbiomed.net</td>\n",
       "    </tr>\n",
       "    <tr>\n",
       "      <th>4</th>\n",
       "      <td>37393</td>\n",
       "      <td>Barstow Community Hospital</td>\n",
       "      <td>92311</td>\n",
       "      <td>Investor</td>\n",
       "      <td>Small/Rural</td>\n",
       "      <td>Charity</td>\n",
       "      <td>262.0</td>\n",
       "      <td>1.167978e+05</td>\n",
       "      <td>1.368450e+07</td>\n",
       "      <td>1.515999e+07</td>\n",
       "      <td>...</td>\n",
       "      <td>42</td>\n",
       "      <td>Iwata</td>\n",
       "      <td>Akira</td>\n",
       "      <td>M</td>\n",
       "      <td>Regional Representative</td>\n",
       "      <td>46978</td>\n",
       "      <td>4</td>\n",
       "      <td>1/1/2011</td>\n",
       "      <td>801-611-9161</td>\n",
       "      <td>akira.iwata@hsu.edu</td>\n",
       "    </tr>\n",
       "    <tr>\n",
       "      <th>...</th>\n",
       "      <td>...</td>\n",
       "      <td>...</td>\n",
       "      <td>...</td>\n",
       "      <td>...</td>\n",
       "      <td>...</td>\n",
       "      <td>...</td>\n",
       "      <td>...</td>\n",
       "      <td>...</td>\n",
       "      <td>...</td>\n",
       "      <td>...</td>\n",
       "      <td>...</td>\n",
       "      <td>...</td>\n",
       "      <td>...</td>\n",
       "      <td>...</td>\n",
       "      <td>...</td>\n",
       "      <td>...</td>\n",
       "      <td>...</td>\n",
       "      <td>...</td>\n",
       "      <td>...</td>\n",
       "      <td>...</td>\n",
       "      <td>...</td>\n",
       "    </tr>\n",
       "    <tr>\n",
       "      <th>57</th>\n",
       "      <td>31032</td>\n",
       "      <td>Long Beach Memorial &amp; Miller Children's Hospital</td>\n",
       "      <td>90806</td>\n",
       "      <td>Non Profit</td>\n",
       "      <td>Teaching</td>\n",
       "      <td>Alumni</td>\n",
       "      <td>5218.0</td>\n",
       "      <td>1.187022e+06</td>\n",
       "      <td>2.912481e+08</td>\n",
       "      <td>1.093286e+08</td>\n",
       "      <td>...</td>\n",
       "      <td>462</td>\n",
       "      <td>Dong</td>\n",
       "      <td>HongWei</td>\n",
       "      <td>F</td>\n",
       "      <td>Safety Inspection Member</td>\n",
       "      <td>23987</td>\n",
       "      <td>2</td>\n",
       "      <td>1/1/2012</td>\n",
       "      <td>479-354-4864</td>\n",
       "      <td>hongwei.dong@brokenhealth.com</td>\n",
       "    </tr>\n",
       "    <tr>\n",
       "      <th>58</th>\n",
       "      <td>22460</td>\n",
       "      <td>Stanford Hospital &amp; Clinics</td>\n",
       "      <td>94305</td>\n",
       "      <td>Non Profit</td>\n",
       "      <td>Teaching</td>\n",
       "      <td>Alumni</td>\n",
       "      <td>6392.0</td>\n",
       "      <td>4.333934e+06</td>\n",
       "      <td>9.289621e+08</td>\n",
       "      <td>6.621559e+08</td>\n",
       "      <td>...</td>\n",
       "      <td>445</td>\n",
       "      <td>Smith</td>\n",
       "      <td>Mary</td>\n",
       "      <td>F</td>\n",
       "      <td>Safety Inspection Member</td>\n",
       "      <td>23987</td>\n",
       "      <td>2</td>\n",
       "      <td>1/1/2012</td>\n",
       "      <td>469-767-5485</td>\n",
       "      <td>mary.smith@ihc.com</td>\n",
       "    </tr>\n",
       "    <tr>\n",
       "      <th>59</th>\n",
       "      <td>33192</td>\n",
       "      <td>California Pacific Medical Center - Pacific Ca...</td>\n",
       "      <td>94115</td>\n",
       "      <td>Non Profit</td>\n",
       "      <td>Teaching</td>\n",
       "      <td>Alumni</td>\n",
       "      <td>1565.1</td>\n",
       "      <td>2.736281e+06</td>\n",
       "      <td>6.337903e+08</td>\n",
       "      <td>2.960207e+08</td>\n",
       "      <td>...</td>\n",
       "      <td>730</td>\n",
       "      <td>Fourier</td>\n",
       "      <td>Craig</td>\n",
       "      <td>M</td>\n",
       "      <td>Regional Representative</td>\n",
       "      <td>46978</td>\n",
       "      <td>4</td>\n",
       "      <td>1/1/2011</td>\n",
       "      <td>503-235-4877</td>\n",
       "      <td>craig.fourier@comenitymed.com</td>\n",
       "    </tr>\n",
       "    <tr>\n",
       "      <th>60</th>\n",
       "      <td>38900</td>\n",
       "      <td>Cedars-Sinai Medical Center</td>\n",
       "      <td>90048</td>\n",
       "      <td>Non Profit</td>\n",
       "      <td>Teaching</td>\n",
       "      <td>Alumni</td>\n",
       "      <td>8000.0</td>\n",
       "      <td>4.662582e+06</td>\n",
       "      <td>1.285631e+09</td>\n",
       "      <td>4.616758e+08</td>\n",
       "      <td>...</td>\n",
       "      <td>909</td>\n",
       "      <td>Paanua</td>\n",
       "      <td>Kaaluai</td>\n",
       "      <td>M</td>\n",
       "      <td>Regional Representative</td>\n",
       "      <td>46978</td>\n",
       "      <td>4</td>\n",
       "      <td>1/1/2011</td>\n",
       "      <td>479-684-1883</td>\n",
       "      <td>kaaluai.paanua@brokenhealth.com</td>\n",
       "    </tr>\n",
       "    <tr>\n",
       "      <th>61</th>\n",
       "      <td>38798</td>\n",
       "      <td>Goleta Valley Cottage Hospital</td>\n",
       "      <td>93111</td>\n",
       "      <td>Non Profit</td>\n",
       "      <td>Small/Rural</td>\n",
       "      <td>Charity</td>\n",
       "      <td>288.0</td>\n",
       "      <td>3.351796e+05</td>\n",
       "      <td>5.358904e+07</td>\n",
       "      <td>6.703015e+07</td>\n",
       "      <td>...</td>\n",
       "      <td>119</td>\n",
       "      <td>Estes</td>\n",
       "      <td>Jen</td>\n",
       "      <td>F</td>\n",
       "      <td>Regional Representative</td>\n",
       "      <td>46978</td>\n",
       "      <td>4</td>\n",
       "      <td>4/23/2025</td>\n",
       "      <td>425-505-1130</td>\n",
       "      <td>bigred0606@gmail.com</td>\n",
       "    </tr>\n",
       "  </tbody>\n",
       "</table>\n",
       "<p>62 rows × 22 columns</p>\n",
       "</div>"
      ],
      "text/plain": [
       "    HospitalID                                               Name         Zip  \\\n",
       "0        45740                                   Mammoth Hospital  93546-0660   \n",
       "1        12145                   Victor Valley Community Hospital       92392   \n",
       "2        25667                         Pioneers Memorial Hospital       92227   \n",
       "3        46996                       Ridgecrest Regional Hospital       93555   \n",
       "4        37393                         Barstow Community Hospital       92311   \n",
       "..         ...                                                ...         ...   \n",
       "57       31032   Long Beach Memorial & Miller Children's Hospital       90806   \n",
       "58       22460                        Stanford Hospital & Clinics       94305   \n",
       "59       33192  California Pacific Medical Center - Pacific Ca...       94115   \n",
       "60       38900                        Cedars-Sinai Medical Center       90048   \n",
       "61       38798                     Goleta Valley Cottage Hospital       93111   \n",
       "\n",
       "   TypeControl     Teaching DonorType   NoFTE     NetPatRev     InOperExp  \\\n",
       "0     District  Small/Rural   Charity   327.0  1.355202e+05  2.052343e+07   \n",
       "1   Non Profit  Small/Rural   Charity   345.0  1.361567e+05  3.344754e+07   \n",
       "2     District  Small/Rural   Charity   601.2  1.970943e+05  3.725418e+07   \n",
       "3   Non Profit  Small/Rural   Charity   400.0  1.391704e+05  2.338557e+07   \n",
       "4     Investor  Small/Rural   Charity   262.0  1.167978e+05  1.368450e+07   \n",
       "..         ...          ...       ...     ...           ...           ...   \n",
       "57  Non Profit     Teaching    Alumni  5218.0  1.187022e+06  2.912481e+08   \n",
       "58  Non Profit     Teaching    Alumni  6392.0  4.333934e+06  9.289621e+08   \n",
       "59  Non Profit     Teaching    Alumni  1565.1  2.736281e+06  6.337903e+08   \n",
       "60  Non Profit     Teaching    Alumni  8000.0  4.662582e+06  1.285631e+09   \n",
       "61  Non Profit  Small/Rural   Charity   288.0  3.351796e+05  5.358904e+07   \n",
       "\n",
       "      OutOperExp  ...  AvlBeds   LastName  FirstName Gender  \\\n",
       "0   3.491622e+07  ...       15        Web      David      M   \n",
       "1   2.034860e+07  ...       99  Rodriguez       Jose      M   \n",
       "2   3.783245e+07  ...      107    Adamson      David      M   \n",
       "3   2.466136e+07  ...       55    Roberts    Melissa      F   \n",
       "4   1.515999e+07  ...       42      Iwata      Akira      M   \n",
       "..           ...  ...      ...        ...        ...    ...   \n",
       "57  1.093286e+08  ...      462       Dong    HongWei      F   \n",
       "58  6.621559e+08  ...      445      Smith       Mary      F   \n",
       "59  2.960207e+08  ...      730    Fourier      Craig      M   \n",
       "60  4.616758e+08  ...      909     Paanua    Kaaluai      M   \n",
       "61  6.703015e+07  ...      119      Estes        Jen      F   \n",
       "\n",
       "               PositionTitle Compensation MaxTerm  StartDate         Phone  \\\n",
       "0   Safety Inspection Member        23987       2   1/1/2012  785-532-2452   \n",
       "1    Regional Representative        46978       4   1/1/2009  405-744-2238   \n",
       "2    Regional Representative        46978       4   1/1/2012  785-532-7573   \n",
       "3   Safety Inspection Member        23987       2   1/1/2009  785-532-9779   \n",
       "4    Regional Representative        46978       4   1/1/2011  801-611-9161   \n",
       "..                       ...          ...     ...        ...           ...   \n",
       "57  Safety Inspection Member        23987       2   1/1/2012  479-354-4864   \n",
       "58  Safety Inspection Member        23987       2   1/1/2012  469-767-5485   \n",
       "59   Regional Representative        46978       4   1/1/2011  503-235-4877   \n",
       "60   Regional Representative        46978       4   1/1/2011  479-684-1883   \n",
       "61   Regional Representative        46978       4  4/23/2025  425-505-1130   \n",
       "\n",
       "                              Email  \n",
       "0         david.web@comenitymed.com  \n",
       "1      jose.rodriguez@edihealth.com  \n",
       "2        david.adamson@txbiomed.net  \n",
       "3      melissa.roberts@txbiomed.net  \n",
       "4               akira.iwata@hsu.edu  \n",
       "..                              ...  \n",
       "57    hongwei.dong@brokenhealth.com  \n",
       "58               mary.smith@ihc.com  \n",
       "59    craig.fourier@comenitymed.com  \n",
       "60  kaaluai.paanua@brokenhealth.com  \n",
       "61             bigred0606@gmail.com  \n",
       "\n",
       "[62 rows x 22 columns]"
      ]
     },
     "execution_count": 22,
     "metadata": {},
     "output_type": "execute_result"
    }
   ],
   "source": [
    "# using concat to add the new rows to the dataframe, and saving it as new_merge\n",
    "new_merge = pd.concat([final_hospital, new_row], ignore_index = True)\n",
    "new_merge"
   ]
  },
  {
   "cell_type": "code",
   "execution_count": 24,
   "id": "943fd7b0-55bf-43aa-af40-7db2dab7e634",
   "metadata": {},
   "outputs": [
    {
     "name": "stdout",
     "output_type": "stream",
     "text": [
      "61\n",
      "62\n"
     ]
    }
   ],
   "source": [
    "# test to see if new row was added\n",
    "print(len(final_hospital.index.values))  # original DataFrame\n",
    "\n",
    "print(len(new_merge.index.values))  # new DataFrame"
   ]
  },
  {
   "cell_type": "code",
   "execution_count": 26,
   "id": "864fe55a-1278-4d63-a941-869e4bb2a49a",
   "metadata": {},
   "outputs": [
    {
     "data": {
      "text/plain": [
       "HospitalID         int64\n",
       "Name              object\n",
       "Zip               object\n",
       "TypeControl       object\n",
       "Teaching          object\n",
       "DonorType         object\n",
       "NoFTE            float64\n",
       "NetPatRev        float64\n",
       "InOperExp        float64\n",
       "OutOperExp       float64\n",
       "OperRev            int64\n",
       "OperInc            int64\n",
       "AvlBeds            int64\n",
       "LastName          object\n",
       "FirstName         object\n",
       "Gender            object\n",
       "PositionTitle     object\n",
       "Compensation       int64\n",
       "MaxTerm            int64\n",
       "StartDate         object\n",
       "Phone             object\n",
       "Email             object\n",
       "dtype: object"
      ]
     },
     "execution_count": 26,
     "metadata": {},
     "output_type": "execute_result"
    }
   ],
   "source": [
    "new_merge.dtypes"
   ]
  },
  {
   "cell_type": "code",
   "execution_count": 28,
   "id": "378de3ed-6832-4862-b581-c58f57d88a53",
   "metadata": {},
   "outputs": [],
   "source": [
    "# converting StartDate to datetime\n",
    "new_merge['StartDate'] = pd.to_datetime(new_merge['StartDate'])"
   ]
  },
  {
   "cell_type": "code",
   "execution_count": 30,
   "id": "357e2761-1f33-42e8-85ac-82ba13b46503",
   "metadata": {},
   "outputs": [],
   "source": [
    "# converting object data to categorical data type\n",
    "new_merge['TypeControl'] = new_merge['TypeControl'].astype('category')\n",
    "new_merge['Teaching'] = new_merge['Teaching'].astype('category')\n",
    "new_merge['DonorType'] = new_merge['DonorType'].astype('category')\n",
    "new_merge['Gender'] = new_merge['Gender'].astype('category')"
   ]
  },
  {
   "cell_type": "code",
   "execution_count": 32,
   "id": "b5e732fc-5e3b-4b62-b8a6-0fd40f7d6e16",
   "metadata": {},
   "outputs": [
    {
     "data": {
      "text/plain": [
       "HospitalID                int64\n",
       "Name                     object\n",
       "Zip                      object\n",
       "TypeControl            category\n",
       "Teaching               category\n",
       "DonorType              category\n",
       "NoFTE                   float64\n",
       "NetPatRev               float64\n",
       "InOperExp               float64\n",
       "OutOperExp              float64\n",
       "OperRev                   int64\n",
       "OperInc                   int64\n",
       "AvlBeds                   int64\n",
       "LastName                 object\n",
       "FirstName                object\n",
       "Gender                 category\n",
       "PositionTitle            object\n",
       "Compensation              int64\n",
       "MaxTerm                   int64\n",
       "StartDate        datetime64[ns]\n",
       "Phone                    object\n",
       "Email                    object\n",
       "dtype: object"
      ]
     },
     "execution_count": 32,
     "metadata": {},
     "output_type": "execute_result"
    }
   ],
   "source": [
    "# confirming these changes\n",
    "new_merge.dtypes"
   ]
  },
  {
   "cell_type": "markdown",
   "id": "3be9cb62-1c56-4609-8b15-379aac71f7ba",
   "metadata": {},
   "source": [
    "## Descriptive Statistics\n",
    "### Summary Statistics \n",
    "This section of the program calculates summary statistics for variables in the dataset by datatype. Summary statistics are calculated separately for numerical data, text data, and categorical data. "
   ]
  },
  {
   "cell_type": "code",
   "execution_count": 35,
   "id": "39f57421-181c-45b5-bb28-56bc5afd6083",
   "metadata": {},
   "outputs": [
    {
     "data": {
      "text/html": [
       "<div>\n",
       "<style scoped>\n",
       "    .dataframe tbody tr th:only-of-type {\n",
       "        vertical-align: middle;\n",
       "    }\n",
       "\n",
       "    .dataframe tbody tr th {\n",
       "        vertical-align: top;\n",
       "    }\n",
       "\n",
       "    .dataframe thead th {\n",
       "        text-align: right;\n",
       "    }\n",
       "</style>\n",
       "<table border=\"1\" class=\"dataframe\">\n",
       "  <thead>\n",
       "    <tr style=\"text-align: right;\">\n",
       "      <th></th>\n",
       "      <th>HospitalID</th>\n",
       "      <th>NoFTE</th>\n",
       "      <th>NetPatRev</th>\n",
       "      <th>InOperExp</th>\n",
       "      <th>OutOperExp</th>\n",
       "      <th>OperRev</th>\n",
       "      <th>OperInc</th>\n",
       "      <th>AvlBeds</th>\n",
       "      <th>Compensation</th>\n",
       "      <th>MaxTerm</th>\n",
       "    </tr>\n",
       "  </thead>\n",
       "  <tbody>\n",
       "    <tr>\n",
       "      <th>count</th>\n",
       "      <td>62.000000</td>\n",
       "      <td>62.000000</td>\n",
       "      <td>6.200000e+01</td>\n",
       "      <td>6.200000e+01</td>\n",
       "      <td>6.200000e+01</td>\n",
       "      <td>6.200000e+01</td>\n",
       "      <td>6.200000e+01</td>\n",
       "      <td>62.000000</td>\n",
       "      <td>62.000000</td>\n",
       "      <td>62.000000</td>\n",
       "    </tr>\n",
       "    <tr>\n",
       "      <th>mean</th>\n",
       "      <td>31940.870968</td>\n",
       "      <td>1333.130968</td>\n",
       "      <td>6.641900e+05</td>\n",
       "      <td>1.644531e+08</td>\n",
       "      <td>8.978505e+07</td>\n",
       "      <td>2.541770e+08</td>\n",
       "      <td>-6.116811e+04</td>\n",
       "      <td>193.306452</td>\n",
       "      <td>92036.064516</td>\n",
       "      <td>4.241935</td>\n",
       "    </tr>\n",
       "    <tr>\n",
       "      <th>std</th>\n",
       "      <td>10959.110246</td>\n",
       "      <td>2013.141492</td>\n",
       "      <td>1.089308e+06</td>\n",
       "      <td>2.808249e+08</td>\n",
       "      <td>1.361914e+08</td>\n",
       "      <td>4.218103e+08</td>\n",
       "      <td>7.095959e+07</td>\n",
       "      <td>220.216108</td>\n",
       "      <td>84049.644628</td>\n",
       "      <td>2.093593</td>\n",
       "    </tr>\n",
       "    <tr>\n",
       "      <th>min</th>\n",
       "      <td>10767.000000</td>\n",
       "      <td>55.000000</td>\n",
       "      <td>1.417224e+04</td>\n",
       "      <td>1.436471e+06</td>\n",
       "      <td>3.787718e+06</td>\n",
       "      <td>5.235317e+06</td>\n",
       "      <td>-3.211633e+08</td>\n",
       "      <td>12.000000</td>\n",
       "      <td>23987.000000</td>\n",
       "      <td>2.000000</td>\n",
       "    </tr>\n",
       "    <tr>\n",
       "      <th>25%</th>\n",
       "      <td>21335.000000</td>\n",
       "      <td>216.375000</td>\n",
       "      <td>7.284830e+04</td>\n",
       "      <td>1.382645e+07</td>\n",
       "      <td>1.429398e+07</td>\n",
       "      <td>2.685966e+07</td>\n",
       "      <td>-1.028922e+06</td>\n",
       "      <td>42.750000</td>\n",
       "      <td>46978.000000</td>\n",
       "      <td>3.000000</td>\n",
       "    </tr>\n",
       "    <tr>\n",
       "      <th>50%</th>\n",
       "      <td>33267.000000</td>\n",
       "      <td>368.660000</td>\n",
       "      <td>1.728132e+05</td>\n",
       "      <td>3.227595e+07</td>\n",
       "      <td>3.582774e+07</td>\n",
       "      <td>6.393148e+07</td>\n",
       "      <td>1.615009e+06</td>\n",
       "      <td>100.500000</td>\n",
       "      <td>46978.000000</td>\n",
       "      <td>4.000000</td>\n",
       "    </tr>\n",
       "    <tr>\n",
       "      <th>75%</th>\n",
       "      <td>39095.500000</td>\n",
       "      <td>1137.000000</td>\n",
       "      <td>5.317051e+05</td>\n",
       "      <td>1.639284e+08</td>\n",
       "      <td>8.867309e+07</td>\n",
       "      <td>1.982414e+08</td>\n",
       "      <td>6.146421e+06</td>\n",
       "      <td>228.250000</td>\n",
       "      <td>89473.000000</td>\n",
       "      <td>4.000000</td>\n",
       "    </tr>\n",
       "    <tr>\n",
       "      <th>max</th>\n",
       "      <td>46996.000000</td>\n",
       "      <td>8000.000000</td>\n",
       "      <td>4.662582e+06</td>\n",
       "      <td>1.285631e+09</td>\n",
       "      <td>6.621559e+08</td>\n",
       "      <td>1.912179e+09</td>\n",
       "      <td>1.648724e+08</td>\n",
       "      <td>909.000000</td>\n",
       "      <td>248904.000000</td>\n",
       "      <td>8.000000</td>\n",
       "    </tr>\n",
       "  </tbody>\n",
       "</table>\n",
       "</div>"
      ],
      "text/plain": [
       "         HospitalID        NoFTE     NetPatRev     InOperExp    OutOperExp  \\\n",
       "count     62.000000    62.000000  6.200000e+01  6.200000e+01  6.200000e+01   \n",
       "mean   31940.870968  1333.130968  6.641900e+05  1.644531e+08  8.978505e+07   \n",
       "std    10959.110246  2013.141492  1.089308e+06  2.808249e+08  1.361914e+08   \n",
       "min    10767.000000    55.000000  1.417224e+04  1.436471e+06  3.787718e+06   \n",
       "25%    21335.000000   216.375000  7.284830e+04  1.382645e+07  1.429398e+07   \n",
       "50%    33267.000000   368.660000  1.728132e+05  3.227595e+07  3.582774e+07   \n",
       "75%    39095.500000  1137.000000  5.317051e+05  1.639284e+08  8.867309e+07   \n",
       "max    46996.000000  8000.000000  4.662582e+06  1.285631e+09  6.621559e+08   \n",
       "\n",
       "            OperRev       OperInc     AvlBeds   Compensation    MaxTerm  \n",
       "count  6.200000e+01  6.200000e+01   62.000000      62.000000  62.000000  \n",
       "mean   2.541770e+08 -6.116811e+04  193.306452   92036.064516   4.241935  \n",
       "std    4.218103e+08  7.095959e+07  220.216108   84049.644628   2.093593  \n",
       "min    5.235317e+06 -3.211633e+08   12.000000   23987.000000   2.000000  \n",
       "25%    2.685966e+07 -1.028922e+06   42.750000   46978.000000   3.000000  \n",
       "50%    6.393148e+07  1.615009e+06  100.500000   46978.000000   4.000000  \n",
       "75%    1.982414e+08  6.146421e+06  228.250000   89473.000000   4.000000  \n",
       "max    1.912179e+09  1.648724e+08  909.000000  248904.000000   8.000000  "
      ]
     },
     "execution_count": 35,
     "metadata": {},
     "output_type": "execute_result"
    }
   ],
   "source": [
    "# summary statistics - numerical \n",
    "new_merge.describe(include=['number'])"
   ]
  },
  {
   "cell_type": "code",
   "execution_count": 37,
   "id": "860400c1-6273-4942-9259-04a3c063df4f",
   "metadata": {},
   "outputs": [
    {
     "data": {
      "text/html": [
       "<div>\n",
       "<style scoped>\n",
       "    .dataframe tbody tr th:only-of-type {\n",
       "        vertical-align: middle;\n",
       "    }\n",
       "\n",
       "    .dataframe tbody tr th {\n",
       "        vertical-align: top;\n",
       "    }\n",
       "\n",
       "    .dataframe thead th {\n",
       "        text-align: right;\n",
       "    }\n",
       "</style>\n",
       "<table border=\"1\" class=\"dataframe\">\n",
       "  <thead>\n",
       "    <tr style=\"text-align: right;\">\n",
       "      <th></th>\n",
       "      <th>Name</th>\n",
       "      <th>Zip</th>\n",
       "      <th>LastName</th>\n",
       "      <th>FirstName</th>\n",
       "      <th>PositionTitle</th>\n",
       "      <th>Phone</th>\n",
       "      <th>Email</th>\n",
       "    </tr>\n",
       "  </thead>\n",
       "  <tbody>\n",
       "    <tr>\n",
       "      <th>count</th>\n",
       "      <td>62</td>\n",
       "      <td>62</td>\n",
       "      <td>62</td>\n",
       "      <td>62</td>\n",
       "      <td>62</td>\n",
       "      <td>62</td>\n",
       "      <td>62</td>\n",
       "    </tr>\n",
       "    <tr>\n",
       "      <th>unique</th>\n",
       "      <td>61</td>\n",
       "      <td>62</td>\n",
       "      <td>24</td>\n",
       "      <td>20</td>\n",
       "      <td>4</td>\n",
       "      <td>25</td>\n",
       "      <td>25</td>\n",
       "    </tr>\n",
       "    <tr>\n",
       "      <th>top</th>\n",
       "      <td>Goleta Valley Cottage Hospital</td>\n",
       "      <td>93546-0660</td>\n",
       "      <td>Smith</td>\n",
       "      <td>David</td>\n",
       "      <td>Regional Representative</td>\n",
       "      <td>785-532-2452</td>\n",
       "      <td>david.web@comenitymed.com</td>\n",
       "    </tr>\n",
       "    <tr>\n",
       "      <th>freq</th>\n",
       "      <td>2</td>\n",
       "      <td>1</td>\n",
       "      <td>4</td>\n",
       "      <td>6</td>\n",
       "      <td>25</td>\n",
       "      <td>3</td>\n",
       "      <td>3</td>\n",
       "    </tr>\n",
       "  </tbody>\n",
       "</table>\n",
       "</div>"
      ],
      "text/plain": [
       "                                  Name         Zip LastName FirstName  \\\n",
       "count                               62          62       62        62   \n",
       "unique                              61          62       24        20   \n",
       "top     Goleta Valley Cottage Hospital  93546-0660    Smith     David   \n",
       "freq                                 2           1        4         6   \n",
       "\n",
       "                  PositionTitle         Phone                      Email  \n",
       "count                        62            62                         62  \n",
       "unique                        4            25                         25  \n",
       "top     Regional Representative  785-532-2452  david.web@comenitymed.com  \n",
       "freq                         25             3                          3  "
      ]
     },
     "execution_count": 37,
     "metadata": {},
     "output_type": "execute_result"
    }
   ],
   "source": [
    "# summary statistics - text \n",
    "new_merge.describe(include=['object'])"
   ]
  },
  {
   "cell_type": "code",
   "execution_count": 39,
   "id": "f49bceb5-597a-4153-b08c-8dc6154ad99f",
   "metadata": {},
   "outputs": [
    {
     "data": {
      "text/html": [
       "<div>\n",
       "<style scoped>\n",
       "    .dataframe tbody tr th:only-of-type {\n",
       "        vertical-align: middle;\n",
       "    }\n",
       "\n",
       "    .dataframe tbody tr th {\n",
       "        vertical-align: top;\n",
       "    }\n",
       "\n",
       "    .dataframe thead th {\n",
       "        text-align: right;\n",
       "    }\n",
       "</style>\n",
       "<table border=\"1\" class=\"dataframe\">\n",
       "  <thead>\n",
       "    <tr style=\"text-align: right;\">\n",
       "      <th></th>\n",
       "      <th>TypeControl</th>\n",
       "      <th>Teaching</th>\n",
       "      <th>DonorType</th>\n",
       "      <th>Gender</th>\n",
       "    </tr>\n",
       "  </thead>\n",
       "  <tbody>\n",
       "    <tr>\n",
       "      <th>count</th>\n",
       "      <td>62</td>\n",
       "      <td>62</td>\n",
       "      <td>62</td>\n",
       "      <td>62</td>\n",
       "    </tr>\n",
       "    <tr>\n",
       "      <th>unique</th>\n",
       "      <td>4</td>\n",
       "      <td>2</td>\n",
       "      <td>2</td>\n",
       "      <td>2</td>\n",
       "    </tr>\n",
       "    <tr>\n",
       "      <th>top</th>\n",
       "      <td>Non Profit</td>\n",
       "      <td>Small/Rural</td>\n",
       "      <td>Charity</td>\n",
       "      <td>F</td>\n",
       "    </tr>\n",
       "    <tr>\n",
       "      <th>freq</th>\n",
       "      <td>38</td>\n",
       "      <td>45</td>\n",
       "      <td>45</td>\n",
       "      <td>33</td>\n",
       "    </tr>\n",
       "  </tbody>\n",
       "</table>\n",
       "</div>"
      ],
      "text/plain": [
       "       TypeControl     Teaching DonorType Gender\n",
       "count           62           62        62     62\n",
       "unique           4            2         2      2\n",
       "top     Non Profit  Small/Rural   Charity      F\n",
       "freq            38           45        45     33"
      ]
     },
     "execution_count": 39,
     "metadata": {},
     "output_type": "execute_result"
    }
   ],
   "source": [
    "# summary statistics - categorical \n",
    "new_merge.describe(include=['category'])"
   ]
  },
  {
   "cell_type": "markdown",
   "id": "57a95635-3efc-4732-a6dd-88360bcd1681",
   "metadata": {},
   "source": [
    "### Creating Visuals : Histograms\n",
    "\n",
    "This section creates histograms for the following variables: `NoFTE`, `NetPatRev`, `InOperExp`, `OutOperExp`, `OperRev`, `OperInc`, and `AvlBeds`."
   ]
  },
  {
   "cell_type": "code",
   "execution_count": 42,
   "id": "c93d7008-c9d3-46a6-8193-6811b08525e0",
   "metadata": {},
   "outputs": [
    {
     "data": {
      "text/plain": [
       "<Axes: ylabel='Frequency'>"
      ]
     },
     "execution_count": 42,
     "metadata": {},
     "output_type": "execute_result"
    },
    {
     "data": {
      "image/png": "[encoded data removed]",
      "text/plain": [
       "<Figure size 640x480 with 1 Axes>"
      ]
     },
     "metadata": {},
     "output_type": "display_data"
    }
   ],
   "source": [
    "# histogram for `NoFTE`\n",
    "new_merge['NoFTE'].plot.hist(alpha=0.5) "
   ]
  },
  {
   "cell_type": "code",
   "execution_count": 44,
   "id": "54e953a4-050a-46bc-b399-2d95592e790e",
   "metadata": {},
   "outputs": [
    {
     "data": {
      "text/plain": [
       "<Axes: ylabel='Frequency'>"
      ]
     },
     "execution_count": 44,
     "metadata": {},
     "output_type": "execute_result"
    },
    {
     "data": {
      "image/png": "[encoded data removed]",
      "text/plain": [
       "<Figure size 640x480 with 1 Axes>"
      ]
     },
     "metadata": {},
     "output_type": "display_data"
    }
   ],
   "source": [
    "# histogram for `NetPatRev`\n",
    "new_merge['NetPatRev'].plot.hist(alpha=0.5) "
   ]
  },
  {
   "cell_type": "code",
   "execution_count": 46,
   "id": "7f2de57e-2099-4185-a13d-20456d919bb3",
   "metadata": {},
   "outputs": [
    {
     "data": {
      "text/plain": [
       "<Axes: ylabel='Frequency'>"
      ]
     },
     "execution_count": 46,
     "metadata": {},
     "output_type": "execute_result"
    },
    {
     "data": {
      "image/png": "[encoded data removed]",
      "text/plain": [
       "<Figure size 640x480 with 1 Axes>"
      ]
     },
     "metadata": {},
     "output_type": "display_data"
    }
   ],
   "source": [
    "# histogram for `InOperExp`\n",
    "new_merge['InOperExp'].plot.hist(alpha=0.5) "
   ]
  },
  {
   "cell_type": "code",
   "execution_count": 48,
   "id": "3f616bb7-67b3-4db6-866b-46a3ac4e81b9",
   "metadata": {},
   "outputs": [
    {
     "data": {
      "text/plain": [
       "<Axes: ylabel='Frequency'>"
      ]
     },
     "execution_count": 48,
     "metadata": {},
     "output_type": "execute_result"
    },
    {
     "data": {
      "image/png": "[encoded data removed]",
      "text/plain": [
       "<Figure size 640x480 with 1 Axes>"
      ]
     },
     "metadata": {},
     "output_type": "display_data"
    }
   ],
   "source": [
    "# histogram for `OutOperExp`\n",
    "new_merge['OutOperExp'].plot.hist(alpha=0.5) "
   ]
  },
  {
   "cell_type": "code",
   "execution_count": 50,
   "id": "c4c10cef-58c0-4044-94eb-68d009500ea5",
   "metadata": {},
   "outputs": [
    {
     "data": {
      "text/plain": [
       "<Axes: ylabel='Frequency'>"
      ]
     },
     "execution_count": 50,
     "metadata": {},
     "output_type": "execute_result"
    },
    {
     "data": {
      "image/png": "[encoded data removed]",
      "text/plain": [
       "<Figure size 640x480 with 1 Axes>"
      ]
     },
     "metadata": {},
     "output_type": "display_data"
    }
   ],
   "source": [
    "# histogram for `OperRev`\n",
    "new_merge['OperRev'].plot.hist(alpha=0.5) "
   ]
  },
  {
   "cell_type": "code",
   "execution_count": 52,
   "id": "cc9d001f-39e0-4c94-8b24-e2d69735e249",
   "metadata": {},
   "outputs": [
    {
     "data": {
      "text/plain": [
       "<Axes: ylabel='Frequency'>"
      ]
     },
     "execution_count": 52,
     "metadata": {},
     "output_type": "execute_result"
    },
    {
     "data": {
      "image/png": "[encoded data removed]",
      "text/plain": [
       "<Figure size 640x480 with 1 Axes>"
      ]
     },
     "metadata": {},
     "output_type": "display_data"
    }
   ],
   "source": [
    "# histogram for `OperInc`\n",
    "new_merge['OperInc'].plot.hist(alpha=0.5) "
   ]
  },
  {
   "cell_type": "code",
   "execution_count": 54,
   "id": "527247c6-31e0-43c4-9966-0de92234f33b",
   "metadata": {},
   "outputs": [
    {
     "data": {
      "text/plain": [
       "<Axes: ylabel='Frequency'>"
      ]
     },
     "execution_count": 54,
     "metadata": {},
     "output_type": "execute_result"
    },
    {
     "data": {
      "image/png": "[encoded data removed]",
      "text/plain": [
       "<Figure size 640x480 with 1 Axes>"
      ]
     },
     "metadata": {},
     "output_type": "display_data"
    }
   ],
   "source": [
    "# histogram for `AvlBeds`\n",
    "new_merge['AvlBeds'].plot.hist(alpha=0.5) "
   ]
  },
  {
   "cell_type": "markdown",
   "id": "630bc65e-73c7-4c37-b3dc-5f671029025f",
   "metadata": {},
   "source": [
    "### Creating Visuals : Scatterplots\n",
    "\n",
    "This section of the program creates scatterplots of the following variables using *net patient revenue* as the target variable (i.e., place it on the *y*-axis): `NoFTE`, `InOperExp`, `OutOperExp`, `OperRev`, `OperInc`, and `AvlBeds`. To improve analysis of the scatterplots, correlation between the two variables is calculated as well. "
   ]
  },
  {
   "cell_type": "code",
   "execution_count": 57,
   "id": "7abf0c5b-57ae-4551-b49f-dc55f8e0718d",
   "metadata": {},
   "outputs": [
    {
     "data": {
      "text/plain": [
       "<Axes: xlabel='NoFTE', ylabel='NetPatRev'>"
      ]
     },
     "execution_count": 57,
     "metadata": {},
     "output_type": "execute_result"
    },
    {
     "data": {
      "image/png": "[encoded data removed]",
      "text/plain": [
       "<Figure size 640x480 with 1 Axes>"
      ]
     },
     "metadata": {},
     "output_type": "display_data"
    }
   ],
   "source": [
    "# scatter plot of `NetPatRev` and `NoFTE`\n",
    "new_merge.plot.scatter(x='NoFTE', y='NetPatRev')"
   ]
  },
  {
   "cell_type": "markdown",
   "id": "b5e82bf3-a129-4bca-8ccd-e8d593edd8b3",
   "metadata": {},
   "source": [
    "The plot above exhibits a fairly strong, positive linear relationship between net patient revenue and number of full time employees at the hospital, and we can check this relationship using the corr() function below. This helps us measure the relationship between the two variables and supports the analysis of the scatterplot. "
   ]
  },
  {
   "cell_type": "code",
   "execution_count": 60,
   "id": "ce439b5c-5e50-424c-bdde-f858cdf3d7ad",
   "metadata": {},
   "outputs": [
    {
     "data": {
      "text/plain": [
       "0.9037225061943901"
      ]
     },
     "execution_count": 60,
     "metadata": {},
     "output_type": "execute_result"
    }
   ],
   "source": [
    "# correlation measure\n",
    "new_merge['NetPatRev'].corr(new_merge['NoFTE'])"
   ]
  },
  {
   "cell_type": "code",
   "execution_count": 62,
   "id": "f40f4083-55b1-4efd-a245-7680b1e41b71",
   "metadata": {},
   "outputs": [
    {
     "data": {
      "text/plain": [
       "<Axes: xlabel='InOperExp', ylabel='NetPatRev'>"
      ]
     },
     "execution_count": 62,
     "metadata": {},
     "output_type": "execute_result"
    },
    {
     "data": {
      "image/png": "[encoded data removed]",
      "text/plain": [
       "<Figure size 640x480 with 1 Axes>"
      ]
     },
     "metadata": {},
     "output_type": "display_data"
    }
   ],
   "source": [
    "# scatter plot of `NetPatRev` and `InOperExp`\n",
    "new_merge.plot.scatter(x='InOperExp', y='NetPatRev')"
   ]
  },
  {
   "cell_type": "markdown",
   "id": "693671c8-f5fe-4b77-b6fe-3e75f46ced47",
   "metadata": {},
   "source": [
    "The plot above exhibits a very strong, positive linear relationship between net patient revenue and inpatient operating costs, and we can check this relationship using the corr() function below. "
   ]
  },
  {
   "cell_type": "code",
   "execution_count": 65,
   "id": "90d5ec42-7bcd-4e33-a1e3-156e0a6c7475",
   "metadata": {},
   "outputs": [
    {
     "data": {
      "text/plain": [
       "0.97908014133143"
      ]
     },
     "execution_count": 65,
     "metadata": {},
     "output_type": "execute_result"
    }
   ],
   "source": [
    "# correlation measure\n",
    "new_merge['NetPatRev'].corr(new_merge['InOperExp'])"
   ]
  },
  {
   "cell_type": "code",
   "execution_count": 67,
   "id": "e087d6d7-e52e-4106-9cc9-83660b98fdae",
   "metadata": {},
   "outputs": [
    {
     "data": {
      "text/plain": [
       "<Axes: xlabel='OutOperExp', ylabel='NetPatRev'>"
      ]
     },
     "execution_count": 67,
     "metadata": {},
     "output_type": "execute_result"
    },
    {
     "data": {
      "image/png": "[encoded data removed]",
      "text/plain": [
       "<Figure size 640x480 with 1 Axes>"
      ]
     },
     "metadata": {},
     "output_type": "display_data"
    }
   ],
   "source": [
    "# scatter plot of `NetPatRev` and `OutOperExp`\n",
    "new_merge.plot.scatter(x='OutOperExp', y='NetPatRev')"
   ]
  },
  {
   "cell_type": "markdown",
   "id": "b1e82d89-32a6-40d5-a6ff-5f2bb7731123",
   "metadata": {},
   "source": [
    "The plot above exhibits a strong, positive linear relationship between net patient revenue and outpatient operating costs, and we can check this relationship using the corr() function below. "
   ]
  },
  {
   "cell_type": "code",
   "execution_count": 70,
   "id": "7844c22d-9962-4eb5-83e0-eade4fb09f70",
   "metadata": {},
   "outputs": [
    {
     "data": {
      "text/plain": [
       "0.9601195873955883"
      ]
     },
     "execution_count": 70,
     "metadata": {},
     "output_type": "execute_result"
    }
   ],
   "source": [
    "# correlation measure\n",
    "new_merge['NetPatRev'].corr(new_merge['OutOperExp'])"
   ]
  },
  {
   "cell_type": "code",
   "execution_count": 72,
   "id": "83748280-0897-4bdb-b1b8-785bc6e6d804",
   "metadata": {},
   "outputs": [
    {
     "data": {
      "text/plain": [
       "<Axes: xlabel='OperRev', ylabel='NetPatRev'>"
      ]
     },
     "execution_count": 72,
     "metadata": {},
     "output_type": "execute_result"
    },
    {
     "data": {
      "image/png": "[encoded data removed]",
      "text/plain": [
       "<Figure size 640x480 with 1 Axes>"
      ]
     },
     "metadata": {},
     "output_type": "display_data"
    }
   ],
   "source": [
    "# scatter plot of `NetPatRev` and `OperRev`\n",
    "new_merge.plot.scatter(x='OperRev', y='NetPatRev')"
   ]
  },
  {
   "cell_type": "markdown",
   "id": "2310ca0e-b4c4-4822-aac5-f1704194448d",
   "metadata": {},
   "source": [
    "The plot above exhibits a very strong, almost perfect positive linear relationship between net patient revenue and operating revenue, and we can check this relationship using the corr() function below. This correlation the strongest value so far. "
   ]
  },
  {
   "cell_type": "code",
   "execution_count": 75,
   "id": "1cfd9e0a-9c0c-475c-9797-0c3060304275",
   "metadata": {},
   "outputs": [
    {
     "data": {
      "text/plain": [
       "0.9987669210202378"
      ]
     },
     "execution_count": 75,
     "metadata": {},
     "output_type": "execute_result"
    }
   ],
   "source": [
    "# correlation measure\n",
    "new_merge['NetPatRev'].corr(new_merge['OperRev'])"
   ]
  },
  {
   "cell_type": "code",
   "execution_count": 77,
   "id": "9445bb1a-f30d-4453-a117-c6bf008d6122",
   "metadata": {},
   "outputs": [
    {
     "data": {
      "text/plain": [
       "<Axes: xlabel='OperInc', ylabel='NetPatRev'>"
      ]
     },
     "execution_count": 77,
     "metadata": {},
     "output_type": "execute_result"
    },
    {
     "data": {
      "image/png": "[encoded data removed]",
      "text/plain": [
       "<Figure size 640x480 with 1 Axes>"
      ]
     },
     "metadata": {},
     "output_type": "display_data"
    }
   ],
   "source": [
    "# scatter plot of `NetPatRev` and `OperInc`\n",
    "new_merge.plot.scatter(x='OperInc', y='NetPatRev')"
   ]
  },
  {
   "cell_type": "markdown",
   "id": "ab9a0ffc-c447-4e61-b1f4-0b4529af4a89",
   "metadata": {},
   "source": [
    "The plot above exhibits a very weak, slightly positive linear relationship between net patient revenue and operating income, and we can check this relationship using the corr() function below. This is the weakest relationship between net patient revenue and other variables thus far. "
   ]
  },
  {
   "cell_type": "code",
   "execution_count": 80,
   "id": "1dd7ccc1-83ff-4c60-8538-afb830a7be5c",
   "metadata": {},
   "outputs": [
    {
     "data": {
      "text/plain": [
       "0.21956214333029503"
      ]
     },
     "execution_count": 80,
     "metadata": {},
     "output_type": "execute_result"
    }
   ],
   "source": [
    "# correlation measure\n",
    "new_merge['NetPatRev'].corr(new_merge['OperInc'])"
   ]
  },
  {
   "cell_type": "markdown",
   "id": "f6a739ef-84d4-4ef7-b275-94bf16572e45",
   "metadata": {},
   "source": [
    "### Creating Visuals : Boxplots\n",
    "\n",
    "This section of the program creates boxplots and assesses the lack or presence of outliers for the following variables: `NoFTE`, `NetPatRev`, `InOperExp`, `OutOperExp`, `OperRev`, `OperInc`, and `AvlBeds`."
   ]
  },
  {
   "cell_type": "code",
   "execution_count": 83,
   "id": "214e4548-520f-4465-8047-014bef3895d1",
   "metadata": {},
   "outputs": [
    {
     "data": {
      "text/plain": [
       "<Axes: >"
      ]
     },
     "execution_count": 83,
     "metadata": {},
     "output_type": "execute_result"
    },
    {
     "data": {
      "image/png": "[encoded data removed]",
      "text/plain": [
       "<Figure size 640x480 with 1 Axes>"
      ]
     },
     "metadata": {},
     "output_type": "display_data"
    }
   ],
   "source": [
    "# initial boxplot with all variables\n",
    "new_merge.loc[:,['NoFTE','NetPatRev','InOperExp', 'OutOperExp', 'OperRev', 'OperInc', 'AvlBeds']].boxplot()"
   ]
  },
  {
   "cell_type": "markdown",
   "id": "7c628798-6dc6-46cd-8d57-e82e91be26a0",
   "metadata": {},
   "source": [
    "With the initial diagram above, it appears that the variables'InOperExp', 'OutOperExp', 'OperRev', and 'OperInc' may have outliers. With the other variables 'NoFTE','NetPatRev', and 'AvlBeds', it is too difficult to determine in this plot. In order to confirm each variable, I will make more boxplots to bring specific plots into focus. "
   ]
  },
  {
   "cell_type": "code",
   "execution_count": 86,
   "id": "58865383-5ced-4a1f-a387-24c0d4b92d7c",
   "metadata": {},
   "outputs": [
    {
     "data": {
      "text/plain": [
       "<Axes: >"
      ]
     },
     "execution_count": 86,
     "metadata": {},
     "output_type": "execute_result"
    },
    {
     "data": {
      "image/png": "[encoded data removed]",
      "text/plain": [
       "<Figure size 640x480 with 1 Axes>"
      ]
     },
     "metadata": {},
     "output_type": "display_data"
    }
   ],
   "source": [
    "# NoFTE boxplot\n",
    "new_merge.loc[:,['NoFTE']].boxplot()"
   ]
  },
  {
   "cell_type": "code",
   "execution_count": 88,
   "id": "45db3738-927f-4b09-9d0f-0ccecc5f911d",
   "metadata": {},
   "outputs": [
    {
     "data": {
      "text/plain": [
       "<Axes: >"
      ]
     },
     "execution_count": 88,
     "metadata": {},
     "output_type": "execute_result"
    },
    {
     "data": {
      "image/png": "[encoded data removed]",
      "text/plain": [
       "<Figure size 640x480 with 1 Axes>"
      ]
     },
     "metadata": {},
     "output_type": "display_data"
    }
   ],
   "source": [
    "# NetPatRev boxplot\n",
    "new_merge.loc[:,['NetPatRev']].boxplot()"
   ]
  },
  {
   "cell_type": "code",
   "execution_count": 90,
   "id": "2cca1024-2e10-4c50-940e-4cd525d3982c",
   "metadata": {},
   "outputs": [
    {
     "data": {
      "text/plain": [
       "<Axes: >"
      ]
     },
     "execution_count": 90,
     "metadata": {},
     "output_type": "execute_result"
    },
    {
     "data": {
      "image/png": "[encoded data removed]",
      "text/plain": [
       "<Figure size 640x480 with 1 Axes>"
      ]
     },
     "metadata": {},
     "output_type": "display_data"
    }
   ],
   "source": [
    "# InOperExp boxplot\n",
    "new_merge.loc[:,['InOperExp']].boxplot()"
   ]
  },
  {
   "cell_type": "code",
   "execution_count": 92,
   "id": "623d9720-2232-4d71-9da8-92ede8d407f3",
   "metadata": {},
   "outputs": [
    {
     "data": {
      "text/plain": [
       "<Axes: >"
      ]
     },
     "execution_count": 92,
     "metadata": {},
     "output_type": "execute_result"
    },
    {
     "data": {
      "image/png": "[encoded data removed]",
      "text/plain": [
       "<Figure size 640x480 with 1 Axes>"
      ]
     },
     "metadata": {},
     "output_type": "display_data"
    }
   ],
   "source": [
    "# OutOperExp boxplot\n",
    "new_merge.loc[:,['OutOperExp']].boxplot()"
   ]
  },
  {
   "cell_type": "code",
   "execution_count": 94,
   "id": "cb5e5f87-549c-4620-8373-eb6fd869acbd",
   "metadata": {},
   "outputs": [
    {
     "data": {
      "text/plain": [
       "<Axes: >"
      ]
     },
     "execution_count": 94,
     "metadata": {},
     "output_type": "execute_result"
    },
    {
     "data": {
      "image/png": "[encoded data removed]",
      "text/plain": [
       "<Figure size 640x480 with 1 Axes>"
      ]
     },
     "metadata": {},
     "output_type": "display_data"
    }
   ],
   "source": [
    "# OperRev boxplot\n",
    "new_merge.loc[:,['OperRev']].boxplot()"
   ]
  },
  {
   "cell_type": "code",
   "execution_count": 96,
   "id": "baa01e0e-aa4d-4009-a002-476c579ec238",
   "metadata": {},
   "outputs": [
    {
     "data": {
      "text/plain": [
       "<Axes: >"
      ]
     },
     "execution_count": 96,
     "metadata": {},
     "output_type": "execute_result"
    },
    {
     "data": {
      "image/png": "[encoded data removed]",
      "text/plain": [
       "<Figure size 640x480 with 1 Axes>"
      ]
     },
     "metadata": {},
     "output_type": "display_data"
    }
   ],
   "source": [
    "# OperInc boxplot\n",
    "new_merge.loc[:,['OperInc']].boxplot()"
   ]
  },
  {
   "cell_type": "code",
   "execution_count": 98,
   "id": "c838b1ce-558e-479c-8e48-4e409cac12e0",
   "metadata": {},
   "outputs": [
    {
     "data": {
      "text/plain": [
       "<Axes: >"
      ]
     },
     "execution_count": 98,
     "metadata": {},
     "output_type": "execute_result"
    },
    {
     "data": {
      "image/png": "[encoded data removed]",
      "text/plain": [
       "<Figure size 640x480 with 1 Axes>"
      ]
     },
     "metadata": {},
     "output_type": "display_data"
    }
   ],
   "source": [
    "# AvlBeds boxplot\n",
    "new_merge.loc[:,['AvlBeds']].boxplot()"
   ]
  },
  {
   "cell_type": "markdown",
   "id": "4d29a10c-6646-430a-8249-473bae366555",
   "metadata": {},
   "source": [
    "### Analysis: Boxplots\n",
    "The plots above show that there are outliers present for all of the used variables: `NoFTE`, `NetPatRev`, `InOperExp`, `OutOperExp`, `OperRev`, `OperInc`, and `AvlBeds`. For most of these variables the outliers are present on the upper bound (above the top horizontal line), but for the variable `OperInc` there are outliers on both sides. "
   ]
  },
  {
   "cell_type": "markdown",
   "id": "95a70457-8cc1-47c1-ba5a-3ecae3c147b6",
   "metadata": {},
   "source": [
    "### QQ Plots and Shapiro-Wilk test\n",
    "This section of the program creates a QQ plot using 3 variables and provides an assessment of the normality, and also performs  a Shapiro-Wilk test on those three variables to compare results. "
   ]
  },
  {
   "cell_type": "code",
   "execution_count": 102,
   "id": "d854fb5b-f250-4f07-a740-17bfac0685a6",
   "metadata": {},
   "outputs": [
    {
     "data": {
      "text/plain": [
       "((array([-2.28632824, -1.92718526, -1.71674477, -1.56281938, -1.43895118,\n",
       "         -1.33390917, -1.24182024, -1.15920615, -1.08382718, -1.01415101,\n",
       "         -0.94907991, -0.88779833, -0.82968216, -0.77424185, -0.72108527,\n",
       "         -0.6698925 , -0.6203983 , -0.57237956, -0.52564609, -0.48003374,\n",
       "         -0.43539923, -0.39161603, -0.34857126, -0.30616308, -0.26429872,\n",
       "         -0.2228927 , -0.18186549, -0.14114226, -0.10065186, -0.06032587,\n",
       "         -0.02009779,  0.02009779,  0.06032587,  0.10065186,  0.14114226,\n",
       "          0.18186549,  0.2228927 ,  0.26429872,  0.30616308,  0.34857126,\n",
       "          0.39161603,  0.43539923,  0.48003374,  0.52564609,  0.57237956,\n",
       "          0.6203983 ,  0.6698925 ,  0.72108527,  0.77424185,  0.82968216,\n",
       "          0.88779833,  0.94907991,  1.01415101,  1.08382718,  1.15920615,\n",
       "          1.24182024,  1.33390917,  1.43895118,  1.56281938,  1.71674477,\n",
       "          1.92718526,  2.28632824]),\n",
       "  array([  55.  ,   67.  ,   75.  ,  100.  ,  121.  ,  150.  ,  158.  ,\n",
       "          159.  ,  160.  ,  168.  ,  170.  ,  170.  ,  180.  ,  191.  ,\n",
       "          193.  ,  215.5 ,  219.  ,  226.  ,  235.  ,  236.5 ,  250.  ,\n",
       "          259.  ,  262.  ,  288.  ,  288.  ,  318.  ,  327.  ,  345.  ,\n",
       "          353.  ,  359.  ,  363.  ,  374.32,  397.5 ,  400.  ,  450.  ,\n",
       "          451.5 ,  501.  ,  503.  ,  503.5 ,  524.5 ,  601.2 ,  750.  ,\n",
       "          777.  ,  779.  ,  871.5 ,  900.  , 1216.  , 1565.1 , 1850.  ,\n",
       "         2403.  , 2554.  , 2814.  , 3151.  , 3500.  , 3892.  , 5218.  ,\n",
       "         5314.  , 6062.  , 6392.  , 6525.  , 6753.  , 8000.  ])),\n",
       " (1645.894386094898, 1333.1309677419356, 0.7996810644718318))"
      ]
     },
     "execution_count": 102,
     "metadata": {},
     "output_type": "execute_result"
    },
    {
     "data": {
      "image/png": "[encoded data removed]",
      "text/plain": [
       "<Figure size 640x480 with 1 Axes>"
      ]
     },
     "metadata": {},
     "output_type": "display_data"
    }
   ],
   "source": [
    "# QQ plot for `NoFTE`\n",
    "sts.probplot(new_merge.NoFTE, dist=\"norm\", plot=plt)"
   ]
  },
  {
   "cell_type": "code",
   "execution_count": 104,
   "id": "fb879f93-a5d9-41a3-95f1-513197e78561",
   "metadata": {},
   "outputs": [
    {
     "data": {
      "text/plain": [
       "ShapiroResult(statistic=0.6401627972789985, pvalue=4.641965644399091e-11)"
      ]
     },
     "execution_count": 104,
     "metadata": {},
     "output_type": "execute_result"
    }
   ],
   "source": [
    "# shapiro-wilk test for `NoFTE`\n",
    "sts.shapiro(new_merge.NoFTE)"
   ]
  },
  {
   "cell_type": "markdown",
   "id": "bb1ecab8-d3fb-457c-bcd4-5174ee9f8f25",
   "metadata": {},
   "source": [
    "The QQ plot assesses the normality of the variable of the number of full time employees at the hospitals, and we can see that the blue data points do not line up with the red line representing the normal distribution. The results from the Shapiro- Wilk test confirm this, as the pvalue is significant, meaning this variable does not follow a normal distribution. "
   ]
  },
  {
   "cell_type": "code",
   "execution_count": 107,
   "id": "9f0e4671-3374-4899-aa6d-4b76354606e3",
   "metadata": {},
   "outputs": [
    {
     "data": {
      "text/plain": [
       "((array([-2.28632824, -1.92718526, -1.71674477, -1.56281938, -1.43895118,\n",
       "         -1.33390917, -1.24182024, -1.15920615, -1.08382718, -1.01415101,\n",
       "         -0.94907991, -0.88779833, -0.82968216, -0.77424185, -0.72108527,\n",
       "         -0.6698925 , -0.6203983 , -0.57237956, -0.52564609, -0.48003374,\n",
       "         -0.43539923, -0.39161603, -0.34857126, -0.30616308, -0.26429872,\n",
       "         -0.2228927 , -0.18186549, -0.14114226, -0.10065186, -0.06032587,\n",
       "         -0.02009779,  0.02009779,  0.06032587,  0.10065186,  0.14114226,\n",
       "          0.18186549,  0.2228927 ,  0.26429872,  0.30616308,  0.34857126,\n",
       "          0.39161603,  0.43539923,  0.48003374,  0.52564609,  0.57237956,\n",
       "          0.6203983 ,  0.6698925 ,  0.72108527,  0.77424185,  0.82968216,\n",
       "          0.88779833,  0.94907991,  1.01415101,  1.08382718,  1.15920615,\n",
       "          1.24182024,  1.33390917,  1.43895118,  1.56281938,  1.71674477,\n",
       "          1.92718526,  2.28632824]),\n",
       "  array([-321163336, -314000601, -119949304,  -81022041,   -7850861,\n",
       "           -5505933,   -5129238,   -5061461,   -4514239,   -3804313,\n",
       "           -3563893,   -2152920,   -1585993,   -1254783,   -1229238,\n",
       "           -1108177,    -791156,    -444391,    -191048,    -179274,\n",
       "              21025,      93097,     210180,     353566,     591431,\n",
       "             735057,     878929,     906670,    1105205,    1355554,\n",
       "            1572695,    1657323,    2034214,    2600695,    2724001,\n",
       "            2783953,    2791000,    2810751,    3040415,    3252242,\n",
       "            5546385,    5683870,    5683870,    5683870,    5729737,\n",
       "            5990693,    6198330,    7943967,    9780718,   12321176,\n",
       "           12386360,   14001153,   18779323,   20056379,   38508125,\n",
       "           48616127,   53781218,   53860958,   59273999,  144445998,\n",
       "          146047105,  164872413])),\n",
       " (52927471.72034056, -61168.11290321671, 0.7295569412074103))"
      ]
     },
     "execution_count": 107,
     "metadata": {},
     "output_type": "execute_result"
    },
    {
     "data": {
      "image/png": "[encoded data removed]",
      "text/plain": [
       "<Figure size 640x480 with 1 Axes>"
      ]
     },
     "metadata": {},
     "output_type": "display_data"
    }
   ],
   "source": [
    "# QQ plot for `OperInc`\n",
    "sts.probplot(new_merge.OperInc, dist=\"norm\", plot=plt)"
   ]
  },
  {
   "cell_type": "code",
   "execution_count": 109,
   "id": "e4e405d2-86d8-4376-9930-fd6155d71c9b",
   "metadata": {},
   "outputs": [
    {
     "data": {
      "text/plain": [
       "ShapiroResult(statistic=0.5557218596676744, pvalue=2.0541413701631304e-12)"
      ]
     },
     "execution_count": 109,
     "metadata": {},
     "output_type": "execute_result"
    }
   ],
   "source": [
    "# shapiro-wilk test for `OperInc`\n",
    "sts.shapiro(new_merge.OperInc)"
   ]
  },
  {
   "cell_type": "markdown",
   "id": "5df149ff-5bf8-437d-b863-21d70175752e",
   "metadata": {},
   "source": [
    "The QQ plot assesses the normality of the variable of operating income, and we can see that the blue data points do not line up with the red line representing the normal distribution. This is espeically clear by the horizontal line of data points and spread out tails in the data. The results from the Shapiro- Wilk test confirm this, as the pvalue is significant, meaning this variable does not follow a normal distribution. "
   ]
  },
  {
   "cell_type": "code",
   "execution_count": 112,
   "id": "49216201-bf95-46de-b243-607d84b3b8bd",
   "metadata": {},
   "outputs": [
    {
     "data": {
      "text/plain": [
       "((array([-2.28632824, -1.92718526, -1.71674477, -1.56281938, -1.43895118,\n",
       "         -1.33390917, -1.24182024, -1.15920615, -1.08382718, -1.01415101,\n",
       "         -0.94907991, -0.88779833, -0.82968216, -0.77424185, -0.72108527,\n",
       "         -0.6698925 , -0.6203983 , -0.57237956, -0.52564609, -0.48003374,\n",
       "         -0.43539923, -0.39161603, -0.34857126, -0.30616308, -0.26429872,\n",
       "         -0.2228927 , -0.18186549, -0.14114226, -0.10065186, -0.06032587,\n",
       "         -0.02009779,  0.02009779,  0.06032587,  0.10065186,  0.14114226,\n",
       "          0.18186549,  0.2228927 ,  0.26429872,  0.30616308,  0.34857126,\n",
       "          0.39161603,  0.43539923,  0.48003374,  0.52564609,  0.57237956,\n",
       "          0.6203983 ,  0.6698925 ,  0.72108527,  0.77424185,  0.82968216,\n",
       "          0.88779833,  0.94907991,  1.01415101,  1.08382718,  1.15920615,\n",
       "          1.24182024,  1.33390917,  1.43895118,  1.56281938,  1.71674477,\n",
       "          1.92718526,  2.28632824]),\n",
       "  array([  14172.24044,   14313.04918,   17566.92896,   26260.51366,\n",
       "           28773.45355,   29712.3306 ,   30786.19672,   33593.68306,\n",
       "           40498.73497,   51726.4918 ,   52983.85792,   57728.56284,\n",
       "           59504.62295,   61816.75956,   64759.03825,   65792.42623,\n",
       "           94015.90984,  103189.4044 ,  105166.8934 ,  108162.9126 ,\n",
       "          108960.418  ,  116609.8169 ,  116797.8306 ,  123480.2705 ,\n",
       "          135520.2186 ,  136156.6913 ,  137280.7104 ,  139170.3798 ,\n",
       "          145733.5765 ,  161745.224  ,  172398.8579 ,  173227.4863 ,\n",
       "          197094.2541 ,  209348.9426 ,  214516.4481 ,  232503.0191 ,\n",
       "          240737.9563 ,  295579.235  ,  335179.5574 ,  335179.5574 ,\n",
       "          335179.5574 ,  363127.5956 ,  367540.6639 ,  404802.8279 ,\n",
       "          500659.6913 ,  503894.9617 ,  540975.1175 ,  723744.8169 ,\n",
       "          968917.4973 , 1021054.09   , 1187021.872  , 1321031.801  ,\n",
       "         1476284.836  , 1665619.301  , 1710382.423  , 2070024.44   ,\n",
       "         2428730.281  , 2736281.415  , 2901254.511  , 4168988.809  ,\n",
       "         4333934.423  , 4662581.617  ])),\n",
       " (874817.9431600209, 664189.9517779032, 0.7855179245640783))"
      ]
     },
     "execution_count": 112,
     "metadata": {},
     "output_type": "execute_result"
    },
    {
     "data": {
      "image/png": "[encoded data removed]",
      "text/plain": [
       "<Figure size 640x480 with 1 Axes>"
      ]
     },
     "metadata": {},
     "output_type": "display_data"
    }
   ],
   "source": [
    "# QQ plot for `NetPatRev`\n",
    "sts.probplot(new_merge.NetPatRev, dist=\"norm\", plot=plt)"
   ]
  },
  {
   "cell_type": "code",
   "execution_count": 114,
   "id": "d1cfd576-2bda-43d8-ad35-378893fadce8",
   "metadata": {},
   "outputs": [
    {
     "data": {
      "text/plain": [
       "ShapiroResult(statistic=0.620914536893302, pvalue=2.1886690127482857e-11)"
      ]
     },
     "execution_count": 114,
     "metadata": {},
     "output_type": "execute_result"
    }
   ],
   "source": [
    "# shapiro-wilk test for `OperInc`\n",
    "sts.shapiro(new_merge.NetPatRev)"
   ]
  },
  {
   "cell_type": "markdown",
   "id": "5527be1e-c05a-4e36-97f6-ebe200c69ea3",
   "metadata": {},
   "source": [
    "The QQ plot assesses the normality of the variable of the net patient revenue, and we can see that the blue data points do not line up with the red line representing the normal distribution. The results from the Shapiro- Wilk test confirm this, as the pvalue is significant, meaning this variable does not follow a normal distribution. "
   ]
  },
  {
   "cell_type": "markdown",
   "id": "1d50b7d5-be2e-4b80-aae0-595c7b21e511",
   "metadata": {},
   "source": [
    "#### Lab Complete!"
   ]
  }
 ],
 "metadata": {
  "kernelspec": {
   "display_name": "Python [conda env:base] *",
   "language": "python",
   "name": "conda-base-py"
  },
  "language_info": {
   "codemirror_mode": {
    "name": "ipython",
    "version": 3
   },
   "file_extension": ".py",
   "mimetype": "text/x-python",
   "name": "python",
   "nbconvert_exporter": "python",
   "pygments_lexer": "ipython3",
   "version": "3.12.7"
  }
 },
 "nbformat": 4,
 "nbformat_minor": 5
}
