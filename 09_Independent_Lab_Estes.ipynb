{
 "cells": [
  {
   "cell_type": "markdown",
   "id": "7d04386e-dd2b-41c4-9f12-a01cd63e15fd",
   "metadata": {},
   "source": [
    "# Week 9: Independent Lab\n",
    "Author: Jen Estes \\\n",
    "Course: BGEN 632 - Introduction to Python \\\n",
    "Term: Spring 2025 \\\n",
    "Due Date: April 28th, 2025 \n",
    "\n",
    "This notebook contains code for implementing statistical approaches in Python based on the requirements outlined by Dr. Newton in the BGEN632 Week 9 GitHub repo. While using the [ect_data.txt](/data/ect_data.txt) dataset, this program creates a linear regression model to investigate the impact of explanatory variables on the response variable of `intent1_01`.\n",
    "\n",
    "### Notebook Setup\n",
    "----"
   ]
  },
  {
   "cell_type": "code",
   "execution_count": 8,
   "id": "7db695e4-bf83-4d65-b526-7256ff55353d",
   "metadata": {},
   "outputs": [],
   "source": [
    "# load modules\n",
    "import os\n",
    "import pandas as pd\n",
    "import numpy as np\n",
    "import matplotlib.pyplot as plt\n",
    "import scipy.stats as sts # for QQ plot\n",
    "from scipy.stats import pearsonr # correlation p-values\n",
    "from sklearn.linear_model import LinearRegression # regression output\n",
    "import statsmodels.formula.api as smf # ols regression"
   ]
  },
  {
   "cell_type": "code",
   "execution_count": 9,
   "id": "4de93d7f-b265-4d7a-9d68-5838655c2ed8",
   "metadata": {},
   "outputs": [
    {
     "data": {
      "text/plain": [
       "'/Users/jenestes/Desktop/week9labs/data'"
      ]
     },
     "execution_count": 9,
     "metadata": {},
     "output_type": "execute_result"
    }
   ],
   "source": [
    "# set working directory\n",
    "os.chdir(\"/Users/jenestes/Desktop/week9labs/data\")   \n",
    "os.getcwd()  # confirm change"
   ]
  },
  {
   "cell_type": "markdown",
   "id": "46f25a6e-4b7b-4f59-8ba1-6b29dc7a0907",
   "metadata": {},
   "source": [
    "## Loading Data \n",
    "This section of my programs loads the data and does a quick inspection of the variables, summary statistics, and correlations. "
   ]
  },
  {
   "cell_type": "code",
   "execution_count": 12,
   "id": "3724a5d6-1b1c-467d-a587-28cb27069c2f",
   "metadata": {},
   "outputs": [
    {
     "name": "stdout",
     "output_type": "stream",
     "text": [
      "<class 'pandas.core.frame.DataFrame'>\n",
      "RangeIndex: 201 entries, 0 to 200\n",
      "Data columns (total 16 columns):\n",
      " #   Column        Non-Null Count  Dtype\n",
      "---  ------        --------------  -----\n",
      " 0   attitude1_01  201 non-null    int64\n",
      " 1   attitude1_02  201 non-null    int64\n",
      " 2   attitude1_03  201 non-null    int64\n",
      " 3   attitude1_04  201 non-null    int64\n",
      " 4   intent1_01    201 non-null    int64\n",
      " 5   intent1_02    201 non-null    int64\n",
      " 6   intent1_03    201 non-null    int64\n",
      " 7   intent1_04    201 non-null    int64\n",
      " 8   peruse01      201 non-null    int64\n",
      " 9   peruse02      201 non-null    int64\n",
      " 10  peruse03      201 non-null    int64\n",
      " 11  peruse04      201 non-null    int64\n",
      " 12  satis01       201 non-null    int64\n",
      " 13  satis02       201 non-null    int64\n",
      " 14  satis03       201 non-null    int64\n",
      " 15  satis04       201 non-null    int64\n",
      "dtypes: int64(16)\n",
      "memory usage: 25.3 KB\n"
     ]
    }
   ],
   "source": [
    "# load data and inspect\n",
    "ect_data = pd.read_csv(\"ect_data.txt\", delimiter = \"\\t\")\n",
    "ect_data.info()"
   ]
  },
  {
   "cell_type": "code",
   "execution_count": 15,
   "id": "4495c5c0-f5be-44d8-8e28-6d9e11361bed",
   "metadata": {},
   "outputs": [
    {
     "data": {
      "text/html": [
       "<div>\n",
       "<style scoped>\n",
       "    .dataframe tbody tr th:only-of-type {\n",
       "        vertical-align: middle;\n",
       "    }\n",
       "\n",
       "    .dataframe tbody tr th {\n",
       "        vertical-align: top;\n",
       "    }\n",
       "\n",
       "    .dataframe thead th {\n",
       "        text-align: right;\n",
       "    }\n",
       "</style>\n",
       "<table border=\"1\" class=\"dataframe\">\n",
       "  <thead>\n",
       "    <tr style=\"text-align: right;\">\n",
       "      <th></th>\n",
       "      <th>attitude1_01</th>\n",
       "      <th>attitude1_02</th>\n",
       "      <th>attitude1_03</th>\n",
       "      <th>attitude1_04</th>\n",
       "      <th>intent1_01</th>\n",
       "      <th>intent1_02</th>\n",
       "      <th>intent1_03</th>\n",
       "      <th>intent1_04</th>\n",
       "      <th>peruse01</th>\n",
       "      <th>peruse02</th>\n",
       "      <th>peruse03</th>\n",
       "      <th>peruse04</th>\n",
       "      <th>satis01</th>\n",
       "      <th>satis02</th>\n",
       "      <th>satis03</th>\n",
       "      <th>satis04</th>\n",
       "    </tr>\n",
       "  </thead>\n",
       "  <tbody>\n",
       "    <tr>\n",
       "      <th>count</th>\n",
       "      <td>201.000000</td>\n",
       "      <td>201.000000</td>\n",
       "      <td>201.000000</td>\n",
       "      <td>201.000000</td>\n",
       "      <td>201.000000</td>\n",
       "      <td>201.000000</td>\n",
       "      <td>201.000000</td>\n",
       "      <td>201.000000</td>\n",
       "      <td>201.000000</td>\n",
       "      <td>201.000000</td>\n",
       "      <td>201.000000</td>\n",
       "      <td>201.000000</td>\n",
       "      <td>201.000000</td>\n",
       "      <td>201.000000</td>\n",
       "      <td>201.000000</td>\n",
       "      <td>201.000000</td>\n",
       "    </tr>\n",
       "    <tr>\n",
       "      <th>mean</th>\n",
       "      <td>6.094527</td>\n",
       "      <td>6.044776</td>\n",
       "      <td>5.791045</td>\n",
       "      <td>5.890547</td>\n",
       "      <td>6.199005</td>\n",
       "      <td>6.044776</td>\n",
       "      <td>6.258706</td>\n",
       "      <td>5.840796</td>\n",
       "      <td>5.890547</td>\n",
       "      <td>5.601990</td>\n",
       "      <td>5.920398</td>\n",
       "      <td>5.731343</td>\n",
       "      <td>5.512438</td>\n",
       "      <td>5.562189</td>\n",
       "      <td>5.487562</td>\n",
       "      <td>5.343284</td>\n",
       "    </tr>\n",
       "    <tr>\n",
       "      <th>std</th>\n",
       "      <td>0.935959</td>\n",
       "      <td>1.073771</td>\n",
       "      <td>1.070570</td>\n",
       "      <td>1.008940</td>\n",
       "      <td>1.019901</td>\n",
       "      <td>1.167470</td>\n",
       "      <td>0.939540</td>\n",
       "      <td>1.069826</td>\n",
       "      <td>1.076086</td>\n",
       "      <td>1.220982</td>\n",
       "      <td>1.154830</td>\n",
       "      <td>1.211389</td>\n",
       "      <td>1.118523</td>\n",
       "      <td>1.160760</td>\n",
       "      <td>1.212887</td>\n",
       "      <td>1.093877</td>\n",
       "    </tr>\n",
       "    <tr>\n",
       "      <th>min</th>\n",
       "      <td>3.000000</td>\n",
       "      <td>2.000000</td>\n",
       "      <td>3.000000</td>\n",
       "      <td>3.000000</td>\n",
       "      <td>1.000000</td>\n",
       "      <td>1.000000</td>\n",
       "      <td>3.000000</td>\n",
       "      <td>2.000000</td>\n",
       "      <td>1.000000</td>\n",
       "      <td>1.000000</td>\n",
       "      <td>1.000000</td>\n",
       "      <td>1.000000</td>\n",
       "      <td>2.000000</td>\n",
       "      <td>2.000000</td>\n",
       "      <td>1.000000</td>\n",
       "      <td>3.000000</td>\n",
       "    </tr>\n",
       "    <tr>\n",
       "      <th>25%</th>\n",
       "      <td>6.000000</td>\n",
       "      <td>5.000000</td>\n",
       "      <td>5.000000</td>\n",
       "      <td>5.000000</td>\n",
       "      <td>6.000000</td>\n",
       "      <td>5.000000</td>\n",
       "      <td>6.000000</td>\n",
       "      <td>5.000000</td>\n",
       "      <td>5.000000</td>\n",
       "      <td>5.000000</td>\n",
       "      <td>5.000000</td>\n",
       "      <td>5.000000</td>\n",
       "      <td>5.000000</td>\n",
       "      <td>5.000000</td>\n",
       "      <td>5.000000</td>\n",
       "      <td>5.000000</td>\n",
       "    </tr>\n",
       "    <tr>\n",
       "      <th>50%</th>\n",
       "      <td>6.000000</td>\n",
       "      <td>6.000000</td>\n",
       "      <td>6.000000</td>\n",
       "      <td>6.000000</td>\n",
       "      <td>6.000000</td>\n",
       "      <td>6.000000</td>\n",
       "      <td>7.000000</td>\n",
       "      <td>6.000000</td>\n",
       "      <td>6.000000</td>\n",
       "      <td>6.000000</td>\n",
       "      <td>6.000000</td>\n",
       "      <td>6.000000</td>\n",
       "      <td>6.000000</td>\n",
       "      <td>6.000000</td>\n",
       "      <td>6.000000</td>\n",
       "      <td>5.000000</td>\n",
       "    </tr>\n",
       "    <tr>\n",
       "      <th>75%</th>\n",
       "      <td>7.000000</td>\n",
       "      <td>7.000000</td>\n",
       "      <td>7.000000</td>\n",
       "      <td>7.000000</td>\n",
       "      <td>7.000000</td>\n",
       "      <td>7.000000</td>\n",
       "      <td>7.000000</td>\n",
       "      <td>7.000000</td>\n",
       "      <td>7.000000</td>\n",
       "      <td>6.000000</td>\n",
       "      <td>7.000000</td>\n",
       "      <td>7.000000</td>\n",
       "      <td>6.000000</td>\n",
       "      <td>6.000000</td>\n",
       "      <td>6.000000</td>\n",
       "      <td>6.000000</td>\n",
       "    </tr>\n",
       "    <tr>\n",
       "      <th>max</th>\n",
       "      <td>7.000000</td>\n",
       "      <td>7.000000</td>\n",
       "      <td>7.000000</td>\n",
       "      <td>7.000000</td>\n",
       "      <td>7.000000</td>\n",
       "      <td>7.000000</td>\n",
       "      <td>7.000000</td>\n",
       "      <td>7.000000</td>\n",
       "      <td>7.000000</td>\n",
       "      <td>7.000000</td>\n",
       "      <td>7.000000</td>\n",
       "      <td>7.000000</td>\n",
       "      <td>7.000000</td>\n",
       "      <td>7.000000</td>\n",
       "      <td>7.000000</td>\n",
       "      <td>7.000000</td>\n",
       "    </tr>\n",
       "  </tbody>\n",
       "</table>\n",
       "</div>"
      ],
      "text/plain": [
       "       attitude1_01  attitude1_02  attitude1_03  attitude1_04  intent1_01  \\\n",
       "count    201.000000    201.000000    201.000000    201.000000  201.000000   \n",
       "mean       6.094527      6.044776      5.791045      5.890547    6.199005   \n",
       "std        0.935959      1.073771      1.070570      1.008940    1.019901   \n",
       "min        3.000000      2.000000      3.000000      3.000000    1.000000   \n",
       "25%        6.000000      5.000000      5.000000      5.000000    6.000000   \n",
       "50%        6.000000      6.000000      6.000000      6.000000    6.000000   \n",
       "75%        7.000000      7.000000      7.000000      7.000000    7.000000   \n",
       "max        7.000000      7.000000      7.000000      7.000000    7.000000   \n",
       "\n",
       "       intent1_02  intent1_03  intent1_04    peruse01    peruse02    peruse03  \\\n",
       "count  201.000000  201.000000  201.000000  201.000000  201.000000  201.000000   \n",
       "mean     6.044776    6.258706    5.840796    5.890547    5.601990    5.920398   \n",
       "std      1.167470    0.939540    1.069826    1.076086    1.220982    1.154830   \n",
       "min      1.000000    3.000000    2.000000    1.000000    1.000000    1.000000   \n",
       "25%      5.000000    6.000000    5.000000    5.000000    5.000000    5.000000   \n",
       "50%      6.000000    7.000000    6.000000    6.000000    6.000000    6.000000   \n",
       "75%      7.000000    7.000000    7.000000    7.000000    6.000000    7.000000   \n",
       "max      7.000000    7.000000    7.000000    7.000000    7.000000    7.000000   \n",
       "\n",
       "         peruse04     satis01     satis02     satis03     satis04  \n",
       "count  201.000000  201.000000  201.000000  201.000000  201.000000  \n",
       "mean     5.731343    5.512438    5.562189    5.487562    5.343284  \n",
       "std      1.211389    1.118523    1.160760    1.212887    1.093877  \n",
       "min      1.000000    2.000000    2.000000    1.000000    3.000000  \n",
       "25%      5.000000    5.000000    5.000000    5.000000    5.000000  \n",
       "50%      6.000000    6.000000    6.000000    6.000000    5.000000  \n",
       "75%      7.000000    6.000000    6.000000    6.000000    6.000000  \n",
       "max      7.000000    7.000000    7.000000    7.000000    7.000000  "
      ]
     },
     "execution_count": 15,
     "metadata": {},
     "output_type": "execute_result"
    }
   ],
   "source": [
    "# summary statistics\n",
    "ect_data.describe()"
   ]
  },
  {
   "cell_type": "code",
   "execution_count": 17,
   "id": "8862eb03-c232-46f9-bfdc-885055cc6e57",
   "metadata": {},
   "outputs": [
    {
     "data": {
      "text/html": [
       "<div>\n",
       "<style scoped>\n",
       "    .dataframe tbody tr th:only-of-type {\n",
       "        vertical-align: middle;\n",
       "    }\n",
       "\n",
       "    .dataframe tbody tr th {\n",
       "        vertical-align: top;\n",
       "    }\n",
       "\n",
       "    .dataframe thead th {\n",
       "        text-align: right;\n",
       "    }\n",
       "</style>\n",
       "<table border=\"1\" class=\"dataframe\">\n",
       "  <thead>\n",
       "    <tr style=\"text-align: right;\">\n",
       "      <th></th>\n",
       "      <th>attitude1_01</th>\n",
       "      <th>attitude1_02</th>\n",
       "      <th>attitude1_03</th>\n",
       "      <th>attitude1_04</th>\n",
       "      <th>intent1_01</th>\n",
       "      <th>intent1_02</th>\n",
       "      <th>intent1_03</th>\n",
       "      <th>intent1_04</th>\n",
       "      <th>peruse01</th>\n",
       "      <th>peruse02</th>\n",
       "      <th>peruse03</th>\n",
       "      <th>peruse04</th>\n",
       "      <th>satis01</th>\n",
       "      <th>satis02</th>\n",
       "      <th>satis03</th>\n",
       "      <th>satis04</th>\n",
       "    </tr>\n",
       "  </thead>\n",
       "  <tbody>\n",
       "    <tr>\n",
       "      <th>attitude1_01</th>\n",
       "      <td>1.000000</td>\n",
       "      <td>0.781832</td>\n",
       "      <td>0.748347</td>\n",
       "      <td>0.709922</td>\n",
       "      <td>0.666356</td>\n",
       "      <td>0.687054</td>\n",
       "      <td>0.654357</td>\n",
       "      <td>0.684226</td>\n",
       "      <td>0.576265</td>\n",
       "      <td>0.593120</td>\n",
       "      <td>0.622239</td>\n",
       "      <td>0.591388</td>\n",
       "      <td>0.569608</td>\n",
       "      <td>0.549134</td>\n",
       "      <td>0.483329</td>\n",
       "      <td>0.515116</td>\n",
       "    </tr>\n",
       "    <tr>\n",
       "      <th>attitude1_02</th>\n",
       "      <td>0.781832</td>\n",
       "      <td>1.000000</td>\n",
       "      <td>0.660611</td>\n",
       "      <td>0.622986</td>\n",
       "      <td>0.603616</td>\n",
       "      <td>0.704362</td>\n",
       "      <td>0.647626</td>\n",
       "      <td>0.650416</td>\n",
       "      <td>0.480259</td>\n",
       "      <td>0.547582</td>\n",
       "      <td>0.615780</td>\n",
       "      <td>0.551287</td>\n",
       "      <td>0.513672</td>\n",
       "      <td>0.517255</td>\n",
       "      <td>0.466889</td>\n",
       "      <td>0.523213</td>\n",
       "    </tr>\n",
       "    <tr>\n",
       "      <th>attitude1_03</th>\n",
       "      <td>0.748347</td>\n",
       "      <td>0.660611</td>\n",
       "      <td>1.000000</td>\n",
       "      <td>0.858235</td>\n",
       "      <td>0.519099</td>\n",
       "      <td>0.571588</td>\n",
       "      <td>0.471573</td>\n",
       "      <td>0.612550</td>\n",
       "      <td>0.453128</td>\n",
       "      <td>0.483051</td>\n",
       "      <td>0.544584</td>\n",
       "      <td>0.511677</td>\n",
       "      <td>0.519945</td>\n",
       "      <td>0.545646</td>\n",
       "      <td>0.463918</td>\n",
       "      <td>0.539753</td>\n",
       "    </tr>\n",
       "    <tr>\n",
       "      <th>attitude1_04</th>\n",
       "      <td>0.709922</td>\n",
       "      <td>0.622986</td>\n",
       "      <td>0.858235</td>\n",
       "      <td>1.000000</td>\n",
       "      <td>0.512032</td>\n",
       "      <td>0.560253</td>\n",
       "      <td>0.483636</td>\n",
       "      <td>0.581335</td>\n",
       "      <td>0.454046</td>\n",
       "      <td>0.492102</td>\n",
       "      <td>0.537477</td>\n",
       "      <td>0.495368</td>\n",
       "      <td>0.515158</td>\n",
       "      <td>0.518164</td>\n",
       "      <td>0.423812</td>\n",
       "      <td>0.478193</td>\n",
       "    </tr>\n",
       "    <tr>\n",
       "      <th>intent1_01</th>\n",
       "      <td>0.666356</td>\n",
       "      <td>0.603616</td>\n",
       "      <td>0.519099</td>\n",
       "      <td>0.512032</td>\n",
       "      <td>1.000000</td>\n",
       "      <td>0.886908</td>\n",
       "      <td>0.827830</td>\n",
       "      <td>0.757793</td>\n",
       "      <td>0.566642</td>\n",
       "      <td>0.529681</td>\n",
       "      <td>0.595103</td>\n",
       "      <td>0.488655</td>\n",
       "      <td>0.545688</td>\n",
       "      <td>0.500534</td>\n",
       "      <td>0.430458</td>\n",
       "      <td>0.494192</td>\n",
       "    </tr>\n",
       "    <tr>\n",
       "      <th>intent1_02</th>\n",
       "      <td>0.687054</td>\n",
       "      <td>0.704362</td>\n",
       "      <td>0.571588</td>\n",
       "      <td>0.560253</td>\n",
       "      <td>0.886908</td>\n",
       "      <td>1.000000</td>\n",
       "      <td>0.832684</td>\n",
       "      <td>0.786367</td>\n",
       "      <td>0.517334</td>\n",
       "      <td>0.489604</td>\n",
       "      <td>0.584902</td>\n",
       "      <td>0.478759</td>\n",
       "      <td>0.518394</td>\n",
       "      <td>0.505258</td>\n",
       "      <td>0.471791</td>\n",
       "      <td>0.508628</td>\n",
       "    </tr>\n",
       "    <tr>\n",
       "      <th>intent1_03</th>\n",
       "      <td>0.654357</td>\n",
       "      <td>0.647626</td>\n",
       "      <td>0.471573</td>\n",
       "      <td>0.483636</td>\n",
       "      <td>0.827830</td>\n",
       "      <td>0.832684</td>\n",
       "      <td>1.000000</td>\n",
       "      <td>0.722675</td>\n",
       "      <td>0.537531</td>\n",
       "      <td>0.552217</td>\n",
       "      <td>0.581282</td>\n",
       "      <td>0.513861</td>\n",
       "      <td>0.529800</td>\n",
       "      <td>0.466569</td>\n",
       "      <td>0.441605</td>\n",
       "      <td>0.472635</td>\n",
       "    </tr>\n",
       "    <tr>\n",
       "      <th>intent1_04</th>\n",
       "      <td>0.684226</td>\n",
       "      <td>0.650416</td>\n",
       "      <td>0.612550</td>\n",
       "      <td>0.581335</td>\n",
       "      <td>0.757793</td>\n",
       "      <td>0.786367</td>\n",
       "      <td>0.722675</td>\n",
       "      <td>1.000000</td>\n",
       "      <td>0.497286</td>\n",
       "      <td>0.521588</td>\n",
       "      <td>0.544137</td>\n",
       "      <td>0.491533</td>\n",
       "      <td>0.590820</td>\n",
       "      <td>0.555600</td>\n",
       "      <td>0.460866</td>\n",
       "      <td>0.628003</td>\n",
       "    </tr>\n",
       "    <tr>\n",
       "      <th>peruse01</th>\n",
       "      <td>0.576265</td>\n",
       "      <td>0.480259</td>\n",
       "      <td>0.453128</td>\n",
       "      <td>0.454046</td>\n",
       "      <td>0.566642</td>\n",
       "      <td>0.517334</td>\n",
       "      <td>0.537531</td>\n",
       "      <td>0.497286</td>\n",
       "      <td>1.000000</td>\n",
       "      <td>0.746810</td>\n",
       "      <td>0.753397</td>\n",
       "      <td>0.683090</td>\n",
       "      <td>0.399931</td>\n",
       "      <td>0.321710</td>\n",
       "      <td>0.198159</td>\n",
       "      <td>0.295438</td>\n",
       "    </tr>\n",
       "    <tr>\n",
       "      <th>peruse02</th>\n",
       "      <td>0.593120</td>\n",
       "      <td>0.547582</td>\n",
       "      <td>0.483051</td>\n",
       "      <td>0.492102</td>\n",
       "      <td>0.529681</td>\n",
       "      <td>0.489604</td>\n",
       "      <td>0.552217</td>\n",
       "      <td>0.521588</td>\n",
       "      <td>0.746810</td>\n",
       "      <td>1.000000</td>\n",
       "      <td>0.732724</td>\n",
       "      <td>0.728517</td>\n",
       "      <td>0.483252</td>\n",
       "      <td>0.423262</td>\n",
       "      <td>0.287002</td>\n",
       "      <td>0.391069</td>\n",
       "    </tr>\n",
       "    <tr>\n",
       "      <th>peruse03</th>\n",
       "      <td>0.622239</td>\n",
       "      <td>0.615780</td>\n",
       "      <td>0.544584</td>\n",
       "      <td>0.537477</td>\n",
       "      <td>0.595103</td>\n",
       "      <td>0.584902</td>\n",
       "      <td>0.581282</td>\n",
       "      <td>0.544137</td>\n",
       "      <td>0.753397</td>\n",
       "      <td>0.732724</td>\n",
       "      <td>1.000000</td>\n",
       "      <td>0.813831</td>\n",
       "      <td>0.511723</td>\n",
       "      <td>0.458772</td>\n",
       "      <td>0.338411</td>\n",
       "      <td>0.429421</td>\n",
       "    </tr>\n",
       "    <tr>\n",
       "      <th>peruse04</th>\n",
       "      <td>0.591388</td>\n",
       "      <td>0.551287</td>\n",
       "      <td>0.511677</td>\n",
       "      <td>0.495368</td>\n",
       "      <td>0.488655</td>\n",
       "      <td>0.478759</td>\n",
       "      <td>0.513861</td>\n",
       "      <td>0.491533</td>\n",
       "      <td>0.683090</td>\n",
       "      <td>0.728517</td>\n",
       "      <td>0.813831</td>\n",
       "      <td>1.000000</td>\n",
       "      <td>0.493265</td>\n",
       "      <td>0.403085</td>\n",
       "      <td>0.321003</td>\n",
       "      <td>0.368035</td>\n",
       "    </tr>\n",
       "    <tr>\n",
       "      <th>satis01</th>\n",
       "      <td>0.569608</td>\n",
       "      <td>0.513672</td>\n",
       "      <td>0.519945</td>\n",
       "      <td>0.515158</td>\n",
       "      <td>0.545688</td>\n",
       "      <td>0.518394</td>\n",
       "      <td>0.529800</td>\n",
       "      <td>0.590820</td>\n",
       "      <td>0.399931</td>\n",
       "      <td>0.483252</td>\n",
       "      <td>0.511723</td>\n",
       "      <td>0.493265</td>\n",
       "      <td>1.000000</td>\n",
       "      <td>0.870708</td>\n",
       "      <td>0.732622</td>\n",
       "      <td>0.774980</td>\n",
       "    </tr>\n",
       "    <tr>\n",
       "      <th>satis02</th>\n",
       "      <td>0.549134</td>\n",
       "      <td>0.517255</td>\n",
       "      <td>0.545646</td>\n",
       "      <td>0.518164</td>\n",
       "      <td>0.500534</td>\n",
       "      <td>0.505258</td>\n",
       "      <td>0.466569</td>\n",
       "      <td>0.555600</td>\n",
       "      <td>0.321710</td>\n",
       "      <td>0.423262</td>\n",
       "      <td>0.458772</td>\n",
       "      <td>0.403085</td>\n",
       "      <td>0.870708</td>\n",
       "      <td>1.000000</td>\n",
       "      <td>0.791641</td>\n",
       "      <td>0.768704</td>\n",
       "    </tr>\n",
       "    <tr>\n",
       "      <th>satis03</th>\n",
       "      <td>0.483329</td>\n",
       "      <td>0.466889</td>\n",
       "      <td>0.463918</td>\n",
       "      <td>0.423812</td>\n",
       "      <td>0.430458</td>\n",
       "      <td>0.471791</td>\n",
       "      <td>0.441605</td>\n",
       "      <td>0.460866</td>\n",
       "      <td>0.198159</td>\n",
       "      <td>0.287002</td>\n",
       "      <td>0.338411</td>\n",
       "      <td>0.321003</td>\n",
       "      <td>0.732622</td>\n",
       "      <td>0.791641</td>\n",
       "      <td>1.000000</td>\n",
       "      <td>0.706080</td>\n",
       "    </tr>\n",
       "    <tr>\n",
       "      <th>satis04</th>\n",
       "      <td>0.515116</td>\n",
       "      <td>0.523213</td>\n",
       "      <td>0.539753</td>\n",
       "      <td>0.478193</td>\n",
       "      <td>0.494192</td>\n",
       "      <td>0.508628</td>\n",
       "      <td>0.472635</td>\n",
       "      <td>0.628003</td>\n",
       "      <td>0.295438</td>\n",
       "      <td>0.391069</td>\n",
       "      <td>0.429421</td>\n",
       "      <td>0.368035</td>\n",
       "      <td>0.774980</td>\n",
       "      <td>0.768704</td>\n",
       "      <td>0.706080</td>\n",
       "      <td>1.000000</td>\n",
       "    </tr>\n",
       "  </tbody>\n",
       "</table>\n",
       "</div>"
      ],
      "text/plain": [
       "              attitude1_01  attitude1_02  attitude1_03  attitude1_04  \\\n",
       "attitude1_01      1.000000      0.781832      0.748347      0.709922   \n",
       "attitude1_02      0.781832      1.000000      0.660611      0.622986   \n",
       "attitude1_03      0.748347      0.660611      1.000000      0.858235   \n",
       "attitude1_04      0.709922      0.622986      0.858235      1.000000   \n",
       "intent1_01        0.666356      0.603616      0.519099      0.512032   \n",
       "intent1_02        0.687054      0.704362      0.571588      0.560253   \n",
       "intent1_03        0.654357      0.647626      0.471573      0.483636   \n",
       "intent1_04        0.684226      0.650416      0.612550      0.581335   \n",
       "peruse01          0.576265      0.480259      0.453128      0.454046   \n",
       "peruse02          0.593120      0.547582      0.483051      0.492102   \n",
       "peruse03          0.622239      0.615780      0.544584      0.537477   \n",
       "peruse04          0.591388      0.551287      0.511677      0.495368   \n",
       "satis01           0.569608      0.513672      0.519945      0.515158   \n",
       "satis02           0.549134      0.517255      0.545646      0.518164   \n",
       "satis03           0.483329      0.466889      0.463918      0.423812   \n",
       "satis04           0.515116      0.523213      0.539753      0.478193   \n",
       "\n",
       "              intent1_01  intent1_02  intent1_03  intent1_04  peruse01  \\\n",
       "attitude1_01    0.666356    0.687054    0.654357    0.684226  0.576265   \n",
       "attitude1_02    0.603616    0.704362    0.647626    0.650416  0.480259   \n",
       "attitude1_03    0.519099    0.571588    0.471573    0.612550  0.453128   \n",
       "attitude1_04    0.512032    0.560253    0.483636    0.581335  0.454046   \n",
       "intent1_01      1.000000    0.886908    0.827830    0.757793  0.566642   \n",
       "intent1_02      0.886908    1.000000    0.832684    0.786367  0.517334   \n",
       "intent1_03      0.827830    0.832684    1.000000    0.722675  0.537531   \n",
       "intent1_04      0.757793    0.786367    0.722675    1.000000  0.497286   \n",
       "peruse01        0.566642    0.517334    0.537531    0.497286  1.000000   \n",
       "peruse02        0.529681    0.489604    0.552217    0.521588  0.746810   \n",
       "peruse03        0.595103    0.584902    0.581282    0.544137  0.753397   \n",
       "peruse04        0.488655    0.478759    0.513861    0.491533  0.683090   \n",
       "satis01         0.545688    0.518394    0.529800    0.590820  0.399931   \n",
       "satis02         0.500534    0.505258    0.466569    0.555600  0.321710   \n",
       "satis03         0.430458    0.471791    0.441605    0.460866  0.198159   \n",
       "satis04         0.494192    0.508628    0.472635    0.628003  0.295438   \n",
       "\n",
       "              peruse02  peruse03  peruse04   satis01   satis02   satis03  \\\n",
       "attitude1_01  0.593120  0.622239  0.591388  0.569608  0.549134  0.483329   \n",
       "attitude1_02  0.547582  0.615780  0.551287  0.513672  0.517255  0.466889   \n",
       "attitude1_03  0.483051  0.544584  0.511677  0.519945  0.545646  0.463918   \n",
       "attitude1_04  0.492102  0.537477  0.495368  0.515158  0.518164  0.423812   \n",
       "intent1_01    0.529681  0.595103  0.488655  0.545688  0.500534  0.430458   \n",
       "intent1_02    0.489604  0.584902  0.478759  0.518394  0.505258  0.471791   \n",
       "intent1_03    0.552217  0.581282  0.513861  0.529800  0.466569  0.441605   \n",
       "intent1_04    0.521588  0.544137  0.491533  0.590820  0.555600  0.460866   \n",
       "peruse01      0.746810  0.753397  0.683090  0.399931  0.321710  0.198159   \n",
       "peruse02      1.000000  0.732724  0.728517  0.483252  0.423262  0.287002   \n",
       "peruse03      0.732724  1.000000  0.813831  0.511723  0.458772  0.338411   \n",
       "peruse04      0.728517  0.813831  1.000000  0.493265  0.403085  0.321003   \n",
       "satis01       0.483252  0.511723  0.493265  1.000000  0.870708  0.732622   \n",
       "satis02       0.423262  0.458772  0.403085  0.870708  1.000000  0.791641   \n",
       "satis03       0.287002  0.338411  0.321003  0.732622  0.791641  1.000000   \n",
       "satis04       0.391069  0.429421  0.368035  0.774980  0.768704  0.706080   \n",
       "\n",
       "               satis04  \n",
       "attitude1_01  0.515116  \n",
       "attitude1_02  0.523213  \n",
       "attitude1_03  0.539753  \n",
       "attitude1_04  0.478193  \n",
       "intent1_01    0.494192  \n",
       "intent1_02    0.508628  \n",
       "intent1_03    0.472635  \n",
       "intent1_04    0.628003  \n",
       "peruse01      0.295438  \n",
       "peruse02      0.391069  \n",
       "peruse03      0.429421  \n",
       "peruse04      0.368035  \n",
       "satis01       0.774980  \n",
       "satis02       0.768704  \n",
       "satis03       0.706080  \n",
       "satis04       1.000000  "
      ]
     },
     "execution_count": 17,
     "metadata": {},
     "output_type": "execute_result"
    }
   ],
   "source": [
    "# correlation matrix of all variables\n",
    "ect_data.corr()"
   ]
  },
  {
   "cell_type": "markdown",
   "id": "21ac537b-e32d-4fca-b76c-8c9ce1cc69b3",
   "metadata": {},
   "source": [
    "### Assumption Validation\n",
    "This section of my program tests the following assumptions for creating a regression model:\n",
    "* Linearity: linear relationship exists\n",
    "* Correlation: the independent variables (i.e., explanatory or predictor variables) are not related to each other\n",
    "* Homoscedasticity: residuals exhibit a constant variance\n",
    "* Independence: residuals are not related to each other\n",
    "* Normality: residuals exhibit a normal distribution\n",
    "\n",
    "The target variable is `intent1_01`, and the planned independent variables are: `attitude1_01`, `attitude1_03`, `peruse03`, `satis02` and `satis04`. "
   ]
  },
  {
   "cell_type": "markdown",
   "id": "9f337b08-4b61-412b-ad0d-1c7f6288d6ee",
   "metadata": {},
   "source": [
    "## Linearity\n",
    "To see if a linear relationship exists between the target variable and each independent variable, I create a scatterplot and calculate the correlation between each pair. "
   ]
  },
  {
   "cell_type": "code",
   "execution_count": 22,
   "id": "d2cbc3ec-c3f9-407e-998c-fc213836ebde",
   "metadata": {},
   "outputs": [
    {
     "data": {
      "text/plain": [
       "<Axes: xlabel='attitude1_01', ylabel='intent1_01'>"
      ]
     },
     "execution_count": 22,
     "metadata": {},
     "output_type": "execute_result"
    },
    {
     "data": {
      "image/png": "[encoded data removed]",
      "text/plain": [
       "<Figure size 640x480 with 1 Axes>"
      ]
     },
     "metadata": {},
     "output_type": "display_data"
    }
   ],
   "source": [
    "# scatterplot for intent1_01 and attitude1_01\n",
    "ect_data.plot.scatter(x='attitude1_01', y='intent1_01')"
   ]
  },
  {
   "cell_type": "code",
   "execution_count": 24,
   "id": "dc6c5d49-dcaa-4a90-ba83-02ca834a6d2f",
   "metadata": {},
   "outputs": [
    {
     "data": {
      "text/plain": [
       "0.6663562202246981"
      ]
     },
     "execution_count": 24,
     "metadata": {},
     "output_type": "execute_result"
    }
   ],
   "source": [
    "# correlation for intent1_01 and attitude1_01\n",
    "ect_data['intent1_01'].corr(ect_data['attitude1_01'])"
   ]
  },
  {
   "cell_type": "markdown",
   "id": "1f87b18d-fd7f-4597-b0c4-5f784a95bd23",
   "metadata": {},
   "source": [
    "From the scatterplot and correlation calculation above, we can see that a positive, linear relationship exists between `intent1_01` and `attitude1_01`. "
   ]
  },
  {
   "cell_type": "code",
   "execution_count": 27,
   "id": "faa30687-72c4-493c-b457-c0606daf84cc",
   "metadata": {},
   "outputs": [
    {
     "data": {
      "text/plain": [
       "<Axes: xlabel='attitude1_03', ylabel='intent1_01'>"
      ]
     },
     "execution_count": 27,
     "metadata": {},
     "output_type": "execute_result"
    },
    {
     "data": {
      "image/png": "[encoded data removed]",
      "text/plain": [
       "<Figure size 640x480 with 1 Axes>"
      ]
     },
     "metadata": {},
     "output_type": "display_data"
    }
   ],
   "source": [
    "# scatterplot for intent1_01 and attitude1_03\n",
    "ect_data.plot.scatter(x='attitude1_03', y='intent1_01')"
   ]
  },
  {
   "cell_type": "code",
   "execution_count": 29,
   "id": "e7189dee-3933-49b1-adbd-4328e5033f66",
   "metadata": {},
   "outputs": [
    {
     "data": {
      "text/plain": [
       "0.5190985674786963"
      ]
     },
     "execution_count": 29,
     "metadata": {},
     "output_type": "execute_result"
    }
   ],
   "source": [
    "# correlation for intent1_01 and attitude1_03\n",
    "ect_data['intent1_01'].corr(ect_data['attitude1_03'])"
   ]
  },
  {
   "cell_type": "markdown",
   "id": "24f4a6b8-dcd5-4675-a0a3-a62930d19f21",
   "metadata": {},
   "source": [
    "From the scatterplot and correlation calculation above, we can see that a positive, linear relationship exists between `intent1_01` and `attitude1_03`. "
   ]
  },
  {
   "cell_type": "code",
   "execution_count": 32,
   "id": "2481c3c3-63fb-44a1-9917-d40fb3be1635",
   "metadata": {},
   "outputs": [
    {
     "data": {
      "text/plain": [
       "<Axes: xlabel='peruse03', ylabel='intent1_01'>"
      ]
     },
     "execution_count": 32,
     "metadata": {},
     "output_type": "execute_result"
    },
    {
     "data": {
      "image/png": "[encoded data removed]",
      "text/plain": [
       "<Figure size 640x480 with 1 Axes>"
      ]
     },
     "metadata": {},
     "output_type": "display_data"
    }
   ],
   "source": [
    "# scatterplot for intent1_01 and peruse03\n",
    "ect_data.plot.scatter(x='peruse03', y='intent1_01')"
   ]
  },
  {
   "cell_type": "code",
   "execution_count": 34,
   "id": "075603be-d4bc-4c77-b52b-588a64f31d00",
   "metadata": {},
   "outputs": [
    {
     "data": {
      "text/plain": [
       "0.5951034992816792"
      ]
     },
     "execution_count": 34,
     "metadata": {},
     "output_type": "execute_result"
    }
   ],
   "source": [
    "# correlation for intent1_01 and peruse03\n",
    "ect_data['intent1_01'].corr(ect_data['peruse03'])"
   ]
  },
  {
   "cell_type": "markdown",
   "id": "e9f242f7-3748-4fa1-b83d-46b2d0670950",
   "metadata": {},
   "source": [
    "From the scatterplot and correlation calculation above, we can see that a positive, linear relationship exists between `intent1_01` and `peruse03`. "
   ]
  },
  {
   "cell_type": "code",
   "execution_count": 37,
   "id": "af4b6a9e-d135-4846-8df6-cf33631dcd89",
   "metadata": {},
   "outputs": [
    {
     "data": {
      "text/plain": [
       "<Axes: xlabel='satis02', ylabel='intent1_01'>"
      ]
     },
     "execution_count": 37,
     "metadata": {},
     "output_type": "execute_result"
    },
    {
     "data": {
      "image/png": "[encoded data removed]",
      "text/plain": [
       "<Figure size 640x480 with 1 Axes>"
      ]
     },
     "metadata": {},
     "output_type": "display_data"
    }
   ],
   "source": [
    "# scatterplot for intent1_01 and satis02\n",
    "ect_data.plot.scatter(x='satis02', y='intent1_01')"
   ]
  },
  {
   "cell_type": "code",
   "execution_count": 39,
   "id": "30c75dc6-cdb2-4ea6-8db1-3989b488a1a9",
   "metadata": {},
   "outputs": [
    {
     "data": {
      "text/plain": [
       "0.5005337666384357"
      ]
     },
     "execution_count": 39,
     "metadata": {},
     "output_type": "execute_result"
    }
   ],
   "source": [
    "# correlation for intent1_01 and satis02\n",
    "ect_data['intent1_01'].corr(ect_data['satis02'])"
   ]
  },
  {
   "cell_type": "markdown",
   "id": "bb53a06a-1d65-4272-9e38-74512225c322",
   "metadata": {},
   "source": [
    "From the scatterplot and correlation calculation above, we can see that a positive, linear relationship exists between `intent1_01` and `satis02`. "
   ]
  },
  {
   "cell_type": "code",
   "execution_count": 42,
   "id": "dac7fb38-9e52-4a18-800f-8424437059b4",
   "metadata": {},
   "outputs": [
    {
     "data": {
      "text/plain": [
       "<Axes: xlabel='satis04', ylabel='intent1_01'>"
      ]
     },
     "execution_count": 42,
     "metadata": {},
     "output_type": "execute_result"
    },
    {
     "data": {
      "image/png": "[encoded data removed]",
      "text/plain": [
       "<Figure size 640x480 with 1 Axes>"
      ]
     },
     "metadata": {},
     "output_type": "display_data"
    }
   ],
   "source": [
    "# scatterplot for intent1_01 and satis04\n",
    "ect_data.plot.scatter(x='satis04', y='intent1_01')"
   ]
  },
  {
   "cell_type": "code",
   "execution_count": 91,
   "id": "cdaca551-6ed2-4d6b-8710-6b162fb0d5b4",
   "metadata": {},
   "outputs": [
    {
     "data": {
      "text/plain": [
       "0.49419156782544804"
      ]
     },
     "execution_count": 91,
     "metadata": {},
     "output_type": "execute_result"
    }
   ],
   "source": [
    "# correlation for intent1_01 and satis04\n",
    "ect_data['intent1_01'].corr(ect_data['satis04'])"
   ]
  },
  {
   "cell_type": "markdown",
   "id": "ce15b4b5-8ba3-404e-ab1c-e866f6de7a43",
   "metadata": {},
   "source": [
    "From the scatterplot and correlation calculation above, we can see that a positive, linear relationship exists between `intent1_01` and `satis04`. "
   ]
  },
  {
   "cell_type": "markdown",
   "id": "941ceb47-1588-4bc3-a42a-5b806610b9ed",
   "metadata": {},
   "source": [
    "## Collinearity\n",
    "This section of my program tests the assumption of collinearity, which is the idea that the independent variables cannot be correlated with one another. To test this, I calculate the correlation between each pair of independent variables: `attitude1_01`, `attitude1_03`, `peruse03`, `satis02` and `satis04`. "
   ]
  },
  {
   "cell_type": "code",
   "execution_count": 45,
   "id": "a65688e2-81dd-4433-958c-6a0536bb2885",
   "metadata": {},
   "outputs": [
    {
     "data": {
      "text/plain": [
       "PearsonRResult(statistic=0.7483468062141385, pvalue=2.497305572469167e-37)"
      ]
     },
     "execution_count": 45,
     "metadata": {},
     "output_type": "execute_result"
    }
   ],
   "source": [
    "pearsonr(ect_data.attitude1_01, ect_data.attitude1_03)"
   ]
  },
  {
   "cell_type": "code",
   "execution_count": 47,
   "id": "3f0c81a8-2616-4404-9b40-f1329c3b4383",
   "metadata": {},
   "outputs": [
    {
     "data": {
      "text/plain": [
       "PearsonRResult(statistic=0.6222393669636351, pvalue=6.225185511710757e-23)"
      ]
     },
     "execution_count": 47,
     "metadata": {},
     "output_type": "execute_result"
    }
   ],
   "source": [
    "pearsonr(ect_data.attitude1_01, ect_data.peruse03)"
   ]
  },
  {
   "cell_type": "code",
   "execution_count": 49,
   "id": "cfa46776-2da4-45f5-a238-d87379a70511",
   "metadata": {},
   "outputs": [
    {
     "data": {
      "text/plain": [
       "PearsonRResult(statistic=0.5491337420088274, pvalue=3.155126872921584e-17)"
      ]
     },
     "execution_count": 49,
     "metadata": {},
     "output_type": "execute_result"
    }
   ],
   "source": [
    "pearsonr(ect_data.attitude1_01, ect_data.satis02)"
   ]
  },
  {
   "cell_type": "code",
   "execution_count": 51,
   "id": "9b6c581e-06da-4803-b598-9d4c69dabb54",
   "metadata": {},
   "outputs": [
    {
     "data": {
      "text/plain": [
       "PearsonRResult(statistic=0.5151156758909828, pvalue=5.1241722090200014e-15)"
      ]
     },
     "execution_count": 51,
     "metadata": {},
     "output_type": "execute_result"
    }
   ],
   "source": [
    "pearsonr(ect_data.attitude1_01, ect_data.satis04)"
   ]
  },
  {
   "cell_type": "code",
   "execution_count": 53,
   "id": "7993d772-ec48-428c-b648-ea6d578c62d3",
   "metadata": {},
   "outputs": [
    {
     "data": {
      "text/plain": [
       "PearsonRResult(statistic=0.5445842965767239, pvalue=6.445719480039763e-17)"
      ]
     },
     "execution_count": 53,
     "metadata": {},
     "output_type": "execute_result"
    }
   ],
   "source": [
    "pearsonr(ect_data.attitude1_03, ect_data.peruse03)"
   ]
  },
  {
   "cell_type": "code",
   "execution_count": 55,
   "id": "900ecbd5-a15c-4ec7-bf90-301a013ddbc2",
   "metadata": {},
   "outputs": [
    {
     "data": {
      "text/plain": [
       "PearsonRResult(statistic=0.5456456075787439, pvalue=5.4615251678809564e-17)"
      ]
     },
     "execution_count": 55,
     "metadata": {},
     "output_type": "execute_result"
    }
   ],
   "source": [
    "pearsonr(ect_data.attitude1_03, ect_data.satis02)"
   ]
  },
  {
   "cell_type": "code",
   "execution_count": 57,
   "id": "b4a13c87-bbfc-40e0-81aa-f40ff3580254",
   "metadata": {},
   "outputs": [
    {
     "data": {
      "text/plain": [
       "PearsonRResult(statistic=0.5397530922293898, pvalue=1.3603199671267022e-16)"
      ]
     },
     "execution_count": 57,
     "metadata": {},
     "output_type": "execute_result"
    }
   ],
   "source": [
    "pearsonr(ect_data.attitude1_03, ect_data.satis04)"
   ]
  },
  {
   "cell_type": "code",
   "execution_count": 59,
   "id": "2f019e8d-f0ce-4936-8f06-6fccad57f7cc",
   "metadata": {},
   "outputs": [
    {
     "data": {
      "text/plain": [
       "PearsonRResult(statistic=0.45877234750027523, pvalue=7.424642541725985e-12)"
      ]
     },
     "execution_count": 59,
     "metadata": {},
     "output_type": "execute_result"
    }
   ],
   "source": [
    "pearsonr(ect_data.peruse03, ect_data.satis02)"
   ]
  },
  {
   "cell_type": "code",
   "execution_count": 61,
   "id": "29c6d230-53cd-4da7-bd3e-37a21a814ebd",
   "metadata": {},
   "outputs": [
    {
     "data": {
      "text/plain": [
       "PearsonRResult(statistic=0.4294210723582487, pvalue=2.003790965829837e-10)"
      ]
     },
     "execution_count": 61,
     "metadata": {},
     "output_type": "execute_result"
    }
   ],
   "source": [
    "pearsonr(ect_data.peruse03, ect_data.satis04)"
   ]
  },
  {
   "cell_type": "code",
   "execution_count": 63,
   "id": "7adffc64-8b74-48b0-9a23-8f4ea0a4d5a6",
   "metadata": {},
   "outputs": [
    {
     "data": {
      "text/plain": [
       "PearsonRResult(statistic=0.7687035076610144, pvalue=1.7426976665473815e-40)"
      ]
     },
     "execution_count": 63,
     "metadata": {},
     "output_type": "execute_result"
    }
   ],
   "source": [
    "pearsonr(ect_data.satis02, ect_data.satis04)"
   ]
  },
  {
   "cell_type": "markdown",
   "id": "b8d4ab6e-7ec0-4f0f-82b5-1e7417f2d1bb",
   "metadata": {},
   "source": [
    "The results above present the correlation between each set of independent variables used in the regression model, along with the p-value to determine if the correlation is statistically significant. There are a few pairs of variables that raise some concern because of their strong correlation. The variables `attitude1_01` and `attitude1_03` have a correlation of 0.75 and the variables `satis02` and `satis04` have a correlation of 0.77. This is likely due to the variables coming from the same section of data and potentially asking about similar things from the respondents, since the first set are both attitude variables and the second are both satisfaction variables. In order to further examine collinearity, I also perform VIF scores. "
   ]
  },
  {
   "cell_type": "code",
   "execution_count": 66,
   "id": "9c8ab1b4-5836-471b-950c-14721ca12989",
   "metadata": {},
   "outputs": [
    {
     "name": "stdout",
     "output_type": "stream",
     "text": [
      "VIF attitude1_01:  2.7650180927806627 \n",
      "VIF attitude1_03:  2.4990687772336284 \n",
      "VIF peruse03:  1.710659306345955 \n",
      "VIF satis02:  2.689995787682194 \n",
      "VIF satis04:  2.5825028495413003\n"
     ]
    }
   ],
   "source": [
    "# use the sklearn library for regression\n",
    "lin_reg_1 = LinearRegression(fit_intercept=True)\n",
    "lin_reg_1.fit(ect_data[['attitude1_01', 'attitude1_03', 'peruse03', 'satis02', 'satis04']], ect_data.intent1_01)\n",
    "\n",
    "# calculate VIF for attitude1_01\n",
    "lin_reg_1.fit(ect_data[['attitude1_03', 'peruse03', 'satis02', 'satis04']], ect_data.attitude1_01)\n",
    "vif1 = 1/(1 - lin_reg_1.score(ect_data[['attitude1_03', 'peruse03', 'satis02', 'satis04']], ect_data.attitude1_01))\n",
    "\n",
    "# calculate VIF for attitude1_03\n",
    "lin_reg_1.fit(ect_data[['attitude1_01', 'peruse03', 'satis02', 'satis04']], ect_data.attitude1_03)\n",
    "vif2 = 1/(1 - lin_reg_1.score(ect_data[['attitude1_01', 'peruse03', 'satis02', 'satis04']], ect_data.attitude1_03))\n",
    "\n",
    "# calculate VIF for peruse03\n",
    "lin_reg_1.fit(ect_data[['attitude1_01', 'attitude1_03', 'satis02', 'satis04']], ect_data.peruse03)\n",
    "vif3 = 1/(1 - lin_reg_1.score(ect_data[['attitude1_01', 'attitude1_03', 'satis02', 'satis04']], ect_data.peruse03))\n",
    "\n",
    "# calculate VIF for satis02\n",
    "lin_reg_1.fit(ect_data[['attitude1_01', 'attitude1_03', 'peruse03', 'satis04']], ect_data.satis02)\n",
    "vif4 = 1/(1 - lin_reg_1.score(ect_data[['attitude1_01', 'attitude1_03', 'peruse03', 'satis04']], ect_data.satis02))\n",
    "\n",
    "# calculate VIF for satis04\n",
    "lin_reg_1.fit(ect_data[['attitude1_01', 'attitude1_03', 'satis02', 'peruse03']], ect_data.satis04)\n",
    "vif5 = 1/(1 - lin_reg_1.score(ect_data[['attitude1_01', 'attitude1_03', 'satis02', 'peruse03']], ect_data.satis04))\n",
    "\n",
    "\n",
    "# output VIF scores\n",
    "print('VIF attitude1_01: ', vif1,\n",
    "        '\\nVIF attitude1_03: ', vif2,\n",
    "        '\\nVIF peruse03: ', vif3,\n",
    "     '\\nVIF satis02: ', vif4,\n",
    "        '\\nVIF satis04: ', vif5)"
   ]
  },
  {
   "cell_type": "markdown",
   "id": "8f832839-aa14-4579-a96a-ea917ae6a177",
   "metadata": {},
   "source": [
    "From the VIF scores above, it is clear that some of our independent variables are somewhat correlated with one another, as the scores range from the lowest at 1.71 to the highest at 2.77. However, these scores are all still relatively small, so I will continue modeling using these independent variables. "
   ]
  },
  {
   "cell_type": "markdown",
   "id": "72cdc8bd-a718-4037-821d-218bdaa7cb28",
   "metadata": {},
   "source": [
    "## Homoscedasticity\n",
    "This section of my program evaluates the assumption of homoscedasticity, which is the idea that the spread of the residuals should be constant across the different independent variables. To look at this, I will plot the residual values against the fitted/predicted values and evaluate the spread of the data points. "
   ]
  },
  {
   "cell_type": "code",
   "execution_count": 70,
   "id": "6ecc2de1-fe1a-436d-ba9c-ec65bc86d1ca",
   "metadata": {},
   "outputs": [
    {
     "data": {
      "image/png": "[encoded data removed]",
      "text/plain": [
       "<Figure size 640x480 with 1 Axes>"
      ]
     },
     "metadata": {},
     "output_type": "display_data"
    }
   ],
   "source": [
    "# regression model\n",
    "lin_reg_2 = smf.ols('intent1_01 ~ attitude1_01 + attitude1_03 + peruse03 + satis02 + satis04', ect_data).fit()\n",
    "\n",
    "# assess homoscedasticity\n",
    "plt.scatter(lin_reg_2.fittedvalues, lin_reg_2.resid)\n",
    "plt.xlabel('Predicted/Fitted Values')\n",
    "plt.ylabel('Residual Values')\n",
    "plt.title('Assessing Homoscedasticity')\n",
    "plt.plot([-5, 10],[0, 0], 'red', lw=2)   # add red horizontal line\n",
    "plt.show()"
   ]
  },
  {
   "cell_type": "markdown",
   "id": "a64e1f05-cda6-4cdc-aa0c-58702eea5c2c",
   "metadata": {},
   "source": [
    "Looking at the plot above, the red line is generated to show a zero-residual line, which would be the case if all the predicted values from the model were identical to the actual values. The data points are somewhat evenly distributed across the x-axis, but there are a few data points causing a large spread. These variables could be outliers in the data. "
   ]
  },
  {
   "cell_type": "markdown",
   "id": "86994d50-ea97-4595-96f5-e8b62cc1b68c",
   "metadata": {},
   "source": [
    "## Independence\n",
    "This section of my program evaluates the condition of independence, which is that the residuals should not be correlated with one another. To test this, I will find the Durbin-Watson test statistic. "
   ]
  },
  {
   "cell_type": "code",
   "execution_count": 74,
   "id": "b5bc479c-b951-4bd6-ba62-d3d1a8c008a9",
   "metadata": {},
   "outputs": [
    {
     "data": {
      "text/html": [
       "<table class=\"simpletable\">\n",
       "<caption>OLS Regression Results</caption>\n",
       "<tr>\n",
       "  <th>Dep. Variable:</th>       <td>intent1_01</td>    <th>  R-squared:         </th> <td>   0.520</td>\n",
       "</tr>\n",
       "<tr>\n",
       "  <th>Model:</th>                   <td>OLS</td>       <th>  Adj. R-squared:    </th> <td>   0.508</td>\n",
       "</tr>\n",
       "<tr>\n",
       "  <th>Method:</th>             <td>Least Squares</td>  <th>  F-statistic:       </th> <td>   42.30</td>\n",
       "</tr>\n",
       "<tr>\n",
       "  <th>Date:</th>             <td>Mon, 28 Apr 2025</td> <th>  Prob (F-statistic):</th> <td>2.22e-29</td>\n",
       "</tr>\n",
       "<tr>\n",
       "  <th>Time:</th>                 <td>10:33:40</td>     <th>  Log-Likelihood:    </th> <td> -214.85</td>\n",
       "</tr>\n",
       "<tr>\n",
       "  <th>No. Observations:</th>      <td>   201</td>      <th>  AIC:               </th> <td>   441.7</td>\n",
       "</tr>\n",
       "<tr>\n",
       "  <th>Df Residuals:</th>          <td>   195</td>      <th>  BIC:               </th> <td>   461.5</td>\n",
       "</tr>\n",
       "<tr>\n",
       "  <th>Df Model:</th>              <td>     5</td>      <th>                     </th>     <td> </td>   \n",
       "</tr>\n",
       "<tr>\n",
       "  <th>Covariance Type:</th>      <td>nonrobust</td>    <th>                     </th>     <td> </td>   \n",
       "</tr>\n",
       "</table>\n",
       "<table class=\"simpletable\">\n",
       "<tr>\n",
       "        <td></td>          <th>coef</th>     <th>std err</th>      <th>t</th>      <th>P>|t|</th>  <th>[0.025</th>    <th>0.975]</th>  \n",
       "</tr>\n",
       "<tr>\n",
       "  <th>Intercept</th>    <td>    1.2239</td> <td>    0.350</td> <td>    3.496</td> <td> 0.001</td> <td>    0.534</td> <td>    1.914</td>\n",
       "</tr>\n",
       "<tr>\n",
       "  <th>attitude1_01</th> <td>    0.4857</td> <td>    0.090</td> <td>    5.405</td> <td> 0.000</td> <td>    0.308</td> <td>    0.663</td>\n",
       "</tr>\n",
       "<tr>\n",
       "  <th>attitude1_03</th> <td>   -0.0663</td> <td>    0.075</td> <td>   -0.888</td> <td> 0.376</td> <td>   -0.214</td> <td>    0.081</td>\n",
       "</tr>\n",
       "<tr>\n",
       "  <th>peruse03</th>     <td>    0.2353</td> <td>    0.057</td> <td>    4.108</td> <td> 0.000</td> <td>    0.122</td> <td>    0.348</td>\n",
       "</tr>\n",
       "<tr>\n",
       "  <th>satis02</th>      <td>    0.0584</td> <td>    0.071</td> <td>    0.817</td> <td> 0.415</td> <td>   -0.083</td> <td>    0.199</td>\n",
       "</tr>\n",
       "<tr>\n",
       "  <th>satis04</th>      <td>    0.1274</td> <td>    0.074</td> <td>    1.714</td> <td> 0.088</td> <td>   -0.019</td> <td>    0.274</td>\n",
       "</tr>\n",
       "</table>\n",
       "<table class=\"simpletable\">\n",
       "<tr>\n",
       "  <th>Omnibus:</th>       <td>57.801</td> <th>  Durbin-Watson:     </th> <td>   1.909</td>\n",
       "</tr>\n",
       "<tr>\n",
       "  <th>Prob(Omnibus):</th> <td> 0.000</td> <th>  Jarque-Bera (JB):  </th> <td> 254.546</td>\n",
       "</tr>\n",
       "<tr>\n",
       "  <th>Skew:</th>          <td>-1.032</td> <th>  Prob(JB):          </th> <td>5.32e-56</td>\n",
       "</tr>\n",
       "<tr>\n",
       "  <th>Kurtosis:</th>      <td> 8.112</td> <th>  Cond. No.          </th> <td>    91.0</td>\n",
       "</tr>\n",
       "</table><br/><br/>Notes:<br/>[1] Standard Errors assume that the covariance matrix of the errors is correctly specified."
      ],
      "text/latex": [
       "\\begin{center}\n",
       "\\begin{tabular}{lclc}\n",
       "\\toprule\n",
       "\\textbf{Dep. Variable:}    &   intent1\\_01    & \\textbf{  R-squared:         } &     0.520   \\\\\n",
       "\\textbf{Model:}            &       OLS        & \\textbf{  Adj. R-squared:    } &     0.508   \\\\\n",
       "\\textbf{Method:}           &  Least Squares   & \\textbf{  F-statistic:       } &     42.30   \\\\\n",
       "\\textbf{Date:}             & Mon, 28 Apr 2025 & \\textbf{  Prob (F-statistic):} &  2.22e-29   \\\\\n",
       "\\textbf{Time:}             &     10:33:40     & \\textbf{  Log-Likelihood:    } &   -214.85   \\\\\n",
       "\\textbf{No. Observations:} &         201      & \\textbf{  AIC:               } &     441.7   \\\\\n",
       "\\textbf{Df Residuals:}     &         195      & \\textbf{  BIC:               } &     461.5   \\\\\n",
       "\\textbf{Df Model:}         &           5      & \\textbf{                     } &             \\\\\n",
       "\\textbf{Covariance Type:}  &    nonrobust     & \\textbf{                     } &             \\\\\n",
       "\\bottomrule\n",
       "\\end{tabular}\n",
       "\\begin{tabular}{lcccccc}\n",
       "                       & \\textbf{coef} & \\textbf{std err} & \\textbf{t} & \\textbf{P$> |$t$|$} & \\textbf{[0.025} & \\textbf{0.975]}  \\\\\n",
       "\\midrule\n",
       "\\textbf{Intercept}     &       1.2239  &        0.350     &     3.496  &         0.001        &        0.534    &        1.914     \\\\\n",
       "\\textbf{attitude1\\_01} &       0.4857  &        0.090     &     5.405  &         0.000        &        0.308    &        0.663     \\\\\n",
       "\\textbf{attitude1\\_03} &      -0.0663  &        0.075     &    -0.888  &         0.376        &       -0.214    &        0.081     \\\\\n",
       "\\textbf{peruse03}      &       0.2353  &        0.057     &     4.108  &         0.000        &        0.122    &        0.348     \\\\\n",
       "\\textbf{satis02}       &       0.0584  &        0.071     &     0.817  &         0.415        &       -0.083    &        0.199     \\\\\n",
       "\\textbf{satis04}       &       0.1274  &        0.074     &     1.714  &         0.088        &       -0.019    &        0.274     \\\\\n",
       "\\bottomrule\n",
       "\\end{tabular}\n",
       "\\begin{tabular}{lclc}\n",
       "\\textbf{Omnibus:}       & 57.801 & \\textbf{  Durbin-Watson:     } &    1.909  \\\\\n",
       "\\textbf{Prob(Omnibus):} &  0.000 & \\textbf{  Jarque-Bera (JB):  } &  254.546  \\\\\n",
       "\\textbf{Skew:}          & -1.032 & \\textbf{  Prob(JB):          } & 5.32e-56  \\\\\n",
       "\\textbf{Kurtosis:}      &  8.112 & \\textbf{  Cond. No.          } &     91.0  \\\\\n",
       "\\bottomrule\n",
       "\\end{tabular}\n",
       "%\\caption{OLS Regression Results}\n",
       "\\end{center}\n",
       "\n",
       "Notes: \\newline\n",
       " [1] Standard Errors assume that the covariance matrix of the errors is correctly specified."
      ],
      "text/plain": [
       "<class 'statsmodels.iolib.summary.Summary'>\n",
       "\"\"\"\n",
       "                            OLS Regression Results                            \n",
       "==============================================================================\n",
       "Dep. Variable:             intent1_01   R-squared:                       0.520\n",
       "Model:                            OLS   Adj. R-squared:                  0.508\n",
       "Method:                 Least Squares   F-statistic:                     42.30\n",
       "Date:                Mon, 28 Apr 2025   Prob (F-statistic):           2.22e-29\n",
       "Time:                        10:33:40   Log-Likelihood:                -214.85\n",
       "No. Observations:                 201   AIC:                             441.7\n",
       "Df Residuals:                     195   BIC:                             461.5\n",
       "Df Model:                           5                                         \n",
       "Covariance Type:            nonrobust                                         \n",
       "================================================================================\n",
       "                   coef    std err          t      P>|t|      [0.025      0.975]\n",
       "--------------------------------------------------------------------------------\n",
       "Intercept        1.2239      0.350      3.496      0.001       0.534       1.914\n",
       "attitude1_01     0.4857      0.090      5.405      0.000       0.308       0.663\n",
       "attitude1_03    -0.0663      0.075     -0.888      0.376      -0.214       0.081\n",
       "peruse03         0.2353      0.057      4.108      0.000       0.122       0.348\n",
       "satis02          0.0584      0.071      0.817      0.415      -0.083       0.199\n",
       "satis04          0.1274      0.074      1.714      0.088      -0.019       0.274\n",
       "==============================================================================\n",
       "Omnibus:                       57.801   Durbin-Watson:                   1.909\n",
       "Prob(Omnibus):                  0.000   Jarque-Bera (JB):              254.546\n",
       "Skew:                          -1.032   Prob(JB):                     5.32e-56\n",
       "Kurtosis:                       8.112   Cond. No.                         91.0\n",
       "==============================================================================\n",
       "\n",
       "Notes:\n",
       "[1] Standard Errors assume that the covariance matrix of the errors is correctly specified.\n",
       "\"\"\""
      ]
     },
     "execution_count": 74,
     "metadata": {},
     "output_type": "execute_result"
    }
   ],
   "source": [
    "# model summary to get Durbin-Watson score\n",
    "lin_reg_2.summary()"
   ]
  },
  {
   "cell_type": "markdown",
   "id": "7e4a8041-8cfb-4c24-b0e1-cfa8c2eb5034",
   "metadata": {},
   "source": [
    "The results above show that the Durbin-Watson test statistic is 1.91, which falls within the acceptable range of 1.5 to 2.5. If this value was outside of the range (especially if under 1 or over 3), then there would be a cause for concern. "
   ]
  },
  {
   "cell_type": "markdown",
   "id": "afa5219d-4638-4299-aa2e-73b53883c607",
   "metadata": {},
   "source": [
    "## Normality\n",
    "This section of my program looks at the last assumption, which is that of normally distributed residuals. I assess this by creating a QQ or \"Probability Plot\". "
   ]
  },
  {
   "cell_type": "code",
   "execution_count": 78,
   "id": "c3951465-7ca9-4597-a079-c930fca446f0",
   "metadata": {},
   "outputs": [
    {
     "data": {
      "text/plain": [
       "((array([-2.70235077, -2.39300644, -2.21670641, -2.09047253, -1.99075721,\n",
       "         -1.90762425, -1.83590295, -1.77254445, -1.71559368, -1.66371874,\n",
       "         -1.61596971, -1.57164427, -1.53020786, -1.49124379, -1.45442067,\n",
       "         -1.41947039, -1.38617282, -1.35434495, -1.32383285, -1.29450578,\n",
       "         -1.26625169, -1.2389738 , -1.21258791, -1.18702027, -1.1622059 ,\n",
       "         -1.13808725, -1.11461308, -1.09173755, -1.06941949, -1.04762177,\n",
       "         -1.02631079, -1.005456  , -0.98502958, -0.96500611, -0.94536226,\n",
       "         -0.92607659, -0.90712937, -0.88850233, -0.87017859, -0.85214246,\n",
       "         -0.83437937, -0.81687572, -0.79961884, -0.78259687, -0.76579869,\n",
       "         -0.74921388, -0.73283263, -0.71664571, -0.70064443, -0.68482057,\n",
       "         -0.66916635, -0.65367443, -0.63833783, -0.62314992, -0.60810442,\n",
       "         -0.59319534, -0.57841696, -0.56376385, -0.5492308 , -0.53481284,\n",
       "         -0.52050522, -0.50630336, -0.49220289, -0.47819962, -0.4642895 ,\n",
       "         -0.45046865, -0.43673331, -0.42307988, -0.40950487, -0.39600491,\n",
       "         -0.38257674, -0.3692172 , -0.35592325, -0.3426919 , -0.32952028,\n",
       "         -0.31640558, -0.30334508, -0.29033612, -0.27737611, -0.26446253,\n",
       "         -0.2515929 , -0.23876481, -0.22597589, -0.21322383, -0.20050634,\n",
       "         -0.18782121, -0.17516622, -0.16253923, -0.1499381 , -0.13736074,\n",
       "         -0.12480507, -0.11226904, -0.09975064, -0.08724784, -0.07475867,\n",
       "         -0.06228115, -0.04981332, -0.03735323, -0.02489894, -0.0124485 ,\n",
       "          0.        ,  0.0124485 ,  0.02489894,  0.03735323,  0.04981332,\n",
       "          0.06228115,  0.07475867,  0.08724784,  0.09975064,  0.11226904,\n",
       "          0.12480507,  0.13736074,  0.1499381 ,  0.16253923,  0.17516622,\n",
       "          0.18782121,  0.20050634,  0.21322383,  0.22597589,  0.23876481,\n",
       "          0.2515929 ,  0.26446253,  0.27737611,  0.29033612,  0.30334508,\n",
       "          0.31640558,  0.32952028,  0.3426919 ,  0.35592325,  0.3692172 ,\n",
       "          0.38257674,  0.39600491,  0.40950487,  0.42307988,  0.43673331,\n",
       "          0.45046865,  0.4642895 ,  0.47819962,  0.49220289,  0.50630336,\n",
       "          0.52050522,  0.53481284,  0.5492308 ,  0.56376385,  0.57841696,\n",
       "          0.59319534,  0.60810442,  0.62314992,  0.63833783,  0.65367443,\n",
       "          0.66916635,  0.68482057,  0.70064443,  0.71664571,  0.73283263,\n",
       "          0.74921388,  0.76579869,  0.78259687,  0.79961884,  0.81687572,\n",
       "          0.83437937,  0.85214246,  0.87017859,  0.88850233,  0.90712937,\n",
       "          0.92607659,  0.94536226,  0.96500611,  0.98502958,  1.005456  ,\n",
       "          1.02631079,  1.04762177,  1.06941949,  1.09173755,  1.11461308,\n",
       "          1.13808725,  1.1622059 ,  1.18702027,  1.21258791,  1.2389738 ,\n",
       "          1.26625169,  1.29450578,  1.32383285,  1.35434495,  1.38617282,\n",
       "          1.41947039,  1.45442067,  1.49124379,  1.53020786,  1.57164427,\n",
       "          1.61596971,  1.66371874,  1.71559368,  1.77254445,  1.83590295,\n",
       "          1.90762425,  1.99075721,  2.09047253,  2.21670641,  2.39300644,\n",
       "          2.70235077]),\n",
       "  array([-4.00550961, -2.42663793, -1.73617948, -1.68660857, -1.66028039,\n",
       "         -1.47620884, -1.29924474, -1.24085923, -1.13979421, -1.11538922,\n",
       "         -1.08140871, -1.04714228, -1.03183779, -1.02827751, -1.01240102,\n",
       "         -0.97345229, -0.97159916, -0.92961052, -0.92195818, -0.84605909,\n",
       "         -0.84605909, -0.77617506, -0.75293233, -0.72660414, -0.71155846,\n",
       "         -0.68831572, -0.68660857, -0.67921522, -0.63518453, -0.61241663,\n",
       "         -0.58608845, -0.56113857, -0.5425326 , -0.50082987, -0.49296168,\n",
       "         -0.49296168, -0.45125896, -0.44415151, -0.43352934, -0.42663793,\n",
       "         -0.39189667, -0.36556849, -0.33619509, -0.31675832, -0.30718298,\n",
       "         -0.29924474, -0.27512565, -0.26718741, -0.26718741, -0.26718741,\n",
       "         -0.26718741, -0.26718741, -0.23981239, -0.20611797, -0.20611797,\n",
       "         -0.20611797, -0.20611797, -0.18418087, -0.18335007, -0.17406064,\n",
       "         -0.17406064, -0.1644853 , -0.16009422, -0.14773246, -0.14773246,\n",
       "         -0.14773246, -0.14773246, -0.14773246, -0.13979421, -0.13979421,\n",
       "         -0.10773689, -0.10773689, -0.10773689, -0.10773689, -0.10773689,\n",
       "         -0.10773689, -0.10773689, -0.10773689, -0.10773689, -0.10773689,\n",
       "         -0.10773689, -0.10773689, -0.10773689, -0.10773689, -0.10773689,\n",
       "         -0.10773689, -0.10773689, -0.10773689, -0.10773689, -0.10773689,\n",
       "         -0.10773689, -0.10773689, -0.10773689, -0.09816155, -0.08140871,\n",
       "         -0.08140871, -0.07347046, -0.04666745, -0.03183779, -0.00503478,\n",
       "          0.01171806,  0.01171806,  0.01171806,  0.01171806,  0.01965631,\n",
       "          0.01965631,  0.01965631,  0.04598449,  0.04866842,  0.06128897,\n",
       "          0.07804182,  0.07804182,  0.07804182,  0.07804182,  0.07804182,\n",
       "          0.07804182,  0.07804182,  0.07804182,  0.07804182,  0.07804182,\n",
       "          0.07804182,  0.08591   ,  0.08761715,  0.08761715,  0.0955554 ,\n",
       "          0.12761273,  0.12761273,  0.13911125,  0.1470495 ,  0.15223375,\n",
       "          0.15223375,  0.15394091,  0.18868217,  0.19749676,  0.20351182,\n",
       "          0.22114101,  0.23176319,  0.24317854,  0.25500592,  0.26382052,\n",
       "          0.26382052,  0.26382052,  0.26382052,  0.26458126,  0.31339143,\n",
       "          0.31339143,  0.32488996,  0.33971961,  0.37446087,  0.39121371,\n",
       "          0.3990819 ,  0.42759206,  0.43284638,  0.43640666,  0.44078462,\n",
       "          0.44596888,  0.44865281,  0.44959922,  0.46348246,  0.4636985 ,\n",
       "          0.56378673,  0.56647066,  0.58130032,  0.59011491,  0.60981048,\n",
       "          0.61774873,  0.67442708,  0.68592561,  0.69281702,  0.72487435,\n",
       "          0.73110544,  0.73281259,  0.73281259,  0.73281259,  0.74333434,\n",
       "          0.75224937,  0.75224937,  0.7911981 ,  0.79148401,  0.79388203,\n",
       "          0.79388203,  0.79913635,  0.82710162,  0.84432929,  0.86020579,\n",
       "          0.89829129,  0.91859129,  0.91859129,  0.91859129,  0.99278323,\n",
       "          1.0440613 ,  1.09450856,  1.0955554 ,  1.15394091,  1.22114101,\n",
       "          1.33178136,  1.33532853,  1.41391155,  1.48843235,  1.76707902,\n",
       "          1.94321232])),\n",
       " (0.68513304160591, 9.321990549993587e-16, 0.9614947666187377))"
      ]
     },
     "execution_count": 78,
     "metadata": {},
     "output_type": "execute_result"
    },
    {
     "data": {
      "image/png": "[encoded data removed]",
      "text/plain": [
       "<Figure size 640x480 with 1 Axes>"
      ]
     },
     "metadata": {},
     "output_type": "display_data"
    }
   ],
   "source": [
    "sts.probplot(lin_reg_2.resid, dist=\"norm\", plot=plt)"
   ]
  },
  {
   "cell_type": "markdown",
   "id": "7d1afae8-f989-4007-a316-9b36da923a10",
   "metadata": {},
   "source": [
    "The plot above suggests that the residuals do follow the pattern of a normal distribution, as the blue circles for my data points closely follow the red line that shows a normal distribution. There are a few data points at the tails that stand out, and these are likely the same ones from the test of a constant variance. "
   ]
  },
  {
   "cell_type": "markdown",
   "id": "b8f96318-67c8-4df4-864b-0ccc13a48b97",
   "metadata": {},
   "source": [
    "## Assessing the Model\n",
    "This section of my program presents the final linear regression model using the specified independent variables to predict the target variable `intent1_01`. The results of the model are outlined, explained, and interpreted. "
   ]
  },
  {
   "cell_type": "code",
   "execution_count": 82,
   "id": "6992657f-cfb0-41e8-af23-ab19d05f04e8",
   "metadata": {},
   "outputs": [
    {
     "data": {
      "text/html": [
       "<table class=\"simpletable\">\n",
       "<caption>OLS Regression Results</caption>\n",
       "<tr>\n",
       "  <th>Dep. Variable:</th>       <td>intent1_01</td>    <th>  R-squared:         </th> <td>   0.520</td>\n",
       "</tr>\n",
       "<tr>\n",
       "  <th>Model:</th>                   <td>OLS</td>       <th>  Adj. R-squared:    </th> <td>   0.508</td>\n",
       "</tr>\n",
       "<tr>\n",
       "  <th>Method:</th>             <td>Least Squares</td>  <th>  F-statistic:       </th> <td>   42.30</td>\n",
       "</tr>\n",
       "<tr>\n",
       "  <th>Date:</th>             <td>Mon, 28 Apr 2025</td> <th>  Prob (F-statistic):</th> <td>2.22e-29</td>\n",
       "</tr>\n",
       "<tr>\n",
       "  <th>Time:</th>                 <td>10:33:59</td>     <th>  Log-Likelihood:    </th> <td> -214.85</td>\n",
       "</tr>\n",
       "<tr>\n",
       "  <th>No. Observations:</th>      <td>   201</td>      <th>  AIC:               </th> <td>   441.7</td>\n",
       "</tr>\n",
       "<tr>\n",
       "  <th>Df Residuals:</th>          <td>   195</td>      <th>  BIC:               </th> <td>   461.5</td>\n",
       "</tr>\n",
       "<tr>\n",
       "  <th>Df Model:</th>              <td>     5</td>      <th>                     </th>     <td> </td>   \n",
       "</tr>\n",
       "<tr>\n",
       "  <th>Covariance Type:</th>      <td>nonrobust</td>    <th>                     </th>     <td> </td>   \n",
       "</tr>\n",
       "</table>\n",
       "<table class=\"simpletable\">\n",
       "<tr>\n",
       "        <td></td>          <th>coef</th>     <th>std err</th>      <th>t</th>      <th>P>|t|</th>  <th>[0.025</th>    <th>0.975]</th>  \n",
       "</tr>\n",
       "<tr>\n",
       "  <th>Intercept</th>    <td>    1.2239</td> <td>    0.350</td> <td>    3.496</td> <td> 0.001</td> <td>    0.534</td> <td>    1.914</td>\n",
       "</tr>\n",
       "<tr>\n",
       "  <th>attitude1_01</th> <td>    0.4857</td> <td>    0.090</td> <td>    5.405</td> <td> 0.000</td> <td>    0.308</td> <td>    0.663</td>\n",
       "</tr>\n",
       "<tr>\n",
       "  <th>attitude1_03</th> <td>   -0.0663</td> <td>    0.075</td> <td>   -0.888</td> <td> 0.376</td> <td>   -0.214</td> <td>    0.081</td>\n",
       "</tr>\n",
       "<tr>\n",
       "  <th>peruse03</th>     <td>    0.2353</td> <td>    0.057</td> <td>    4.108</td> <td> 0.000</td> <td>    0.122</td> <td>    0.348</td>\n",
       "</tr>\n",
       "<tr>\n",
       "  <th>satis02</th>      <td>    0.0584</td> <td>    0.071</td> <td>    0.817</td> <td> 0.415</td> <td>   -0.083</td> <td>    0.199</td>\n",
       "</tr>\n",
       "<tr>\n",
       "  <th>satis04</th>      <td>    0.1274</td> <td>    0.074</td> <td>    1.714</td> <td> 0.088</td> <td>   -0.019</td> <td>    0.274</td>\n",
       "</tr>\n",
       "</table>\n",
       "<table class=\"simpletable\">\n",
       "<tr>\n",
       "  <th>Omnibus:</th>       <td>57.801</td> <th>  Durbin-Watson:     </th> <td>   1.909</td>\n",
       "</tr>\n",
       "<tr>\n",
       "  <th>Prob(Omnibus):</th> <td> 0.000</td> <th>  Jarque-Bera (JB):  </th> <td> 254.546</td>\n",
       "</tr>\n",
       "<tr>\n",
       "  <th>Skew:</th>          <td>-1.032</td> <th>  Prob(JB):          </th> <td>5.32e-56</td>\n",
       "</tr>\n",
       "<tr>\n",
       "  <th>Kurtosis:</th>      <td> 8.112</td> <th>  Cond. No.          </th> <td>    91.0</td>\n",
       "</tr>\n",
       "</table><br/><br/>Notes:<br/>[1] Standard Errors assume that the covariance matrix of the errors is correctly specified."
      ],
      "text/latex": [
       "\\begin{center}\n",
       "\\begin{tabular}{lclc}\n",
       "\\toprule\n",
       "\\textbf{Dep. Variable:}    &   intent1\\_01    & \\textbf{  R-squared:         } &     0.520   \\\\\n",
       "\\textbf{Model:}            &       OLS        & \\textbf{  Adj. R-squared:    } &     0.508   \\\\\n",
       "\\textbf{Method:}           &  Least Squares   & \\textbf{  F-statistic:       } &     42.30   \\\\\n",
       "\\textbf{Date:}             & Mon, 28 Apr 2025 & \\textbf{  Prob (F-statistic):} &  2.22e-29   \\\\\n",
       "\\textbf{Time:}             &     10:33:59     & \\textbf{  Log-Likelihood:    } &   -214.85   \\\\\n",
       "\\textbf{No. Observations:} &         201      & \\textbf{  AIC:               } &     441.7   \\\\\n",
       "\\textbf{Df Residuals:}     &         195      & \\textbf{  BIC:               } &     461.5   \\\\\n",
       "\\textbf{Df Model:}         &           5      & \\textbf{                     } &             \\\\\n",
       "\\textbf{Covariance Type:}  &    nonrobust     & \\textbf{                     } &             \\\\\n",
       "\\bottomrule\n",
       "\\end{tabular}\n",
       "\\begin{tabular}{lcccccc}\n",
       "                       & \\textbf{coef} & \\textbf{std err} & \\textbf{t} & \\textbf{P$> |$t$|$} & \\textbf{[0.025} & \\textbf{0.975]}  \\\\\n",
       "\\midrule\n",
       "\\textbf{Intercept}     &       1.2239  &        0.350     &     3.496  &         0.001        &        0.534    &        1.914     \\\\\n",
       "\\textbf{attitude1\\_01} &       0.4857  &        0.090     &     5.405  &         0.000        &        0.308    &        0.663     \\\\\n",
       "\\textbf{attitude1\\_03} &      -0.0663  &        0.075     &    -0.888  &         0.376        &       -0.214    &        0.081     \\\\\n",
       "\\textbf{peruse03}      &       0.2353  &        0.057     &     4.108  &         0.000        &        0.122    &        0.348     \\\\\n",
       "\\textbf{satis02}       &       0.0584  &        0.071     &     0.817  &         0.415        &       -0.083    &        0.199     \\\\\n",
       "\\textbf{satis04}       &       0.1274  &        0.074     &     1.714  &         0.088        &       -0.019    &        0.274     \\\\\n",
       "\\bottomrule\n",
       "\\end{tabular}\n",
       "\\begin{tabular}{lclc}\n",
       "\\textbf{Omnibus:}       & 57.801 & \\textbf{  Durbin-Watson:     } &    1.909  \\\\\n",
       "\\textbf{Prob(Omnibus):} &  0.000 & \\textbf{  Jarque-Bera (JB):  } &  254.546  \\\\\n",
       "\\textbf{Skew:}          & -1.032 & \\textbf{  Prob(JB):          } & 5.32e-56  \\\\\n",
       "\\textbf{Kurtosis:}      &  8.112 & \\textbf{  Cond. No.          } &     91.0  \\\\\n",
       "\\bottomrule\n",
       "\\end{tabular}\n",
       "%\\caption{OLS Regression Results}\n",
       "\\end{center}\n",
       "\n",
       "Notes: \\newline\n",
       " [1] Standard Errors assume that the covariance matrix of the errors is correctly specified."
      ],
      "text/plain": [
       "<class 'statsmodels.iolib.summary.Summary'>\n",
       "\"\"\"\n",
       "                            OLS Regression Results                            \n",
       "==============================================================================\n",
       "Dep. Variable:             intent1_01   R-squared:                       0.520\n",
       "Model:                            OLS   Adj. R-squared:                  0.508\n",
       "Method:                 Least Squares   F-statistic:                     42.30\n",
       "Date:                Mon, 28 Apr 2025   Prob (F-statistic):           2.22e-29\n",
       "Time:                        10:33:59   Log-Likelihood:                -214.85\n",
       "No. Observations:                 201   AIC:                             441.7\n",
       "Df Residuals:                     195   BIC:                             461.5\n",
       "Df Model:                           5                                         \n",
       "Covariance Type:            nonrobust                                         \n",
       "================================================================================\n",
       "                   coef    std err          t      P>|t|      [0.025      0.975]\n",
       "--------------------------------------------------------------------------------\n",
       "Intercept        1.2239      0.350      3.496      0.001       0.534       1.914\n",
       "attitude1_01     0.4857      0.090      5.405      0.000       0.308       0.663\n",
       "attitude1_03    -0.0663      0.075     -0.888      0.376      -0.214       0.081\n",
       "peruse03         0.2353      0.057      4.108      0.000       0.122       0.348\n",
       "satis02          0.0584      0.071      0.817      0.415      -0.083       0.199\n",
       "satis04          0.1274      0.074      1.714      0.088      -0.019       0.274\n",
       "==============================================================================\n",
       "Omnibus:                       57.801   Durbin-Watson:                   1.909\n",
       "Prob(Omnibus):                  0.000   Jarque-Bera (JB):              254.546\n",
       "Skew:                          -1.032   Prob(JB):                     5.32e-56\n",
       "Kurtosis:                       8.112   Cond. No.                         91.0\n",
       "==============================================================================\n",
       "\n",
       "Notes:\n",
       "[1] Standard Errors assume that the covariance matrix of the errors is correctly specified.\n",
       "\"\"\""
      ]
     },
     "execution_count": 82,
     "metadata": {},
     "output_type": "execute_result"
    }
   ],
   "source": [
    "lin_reg = smf.ols('intent1_01 ~ attitude1_01 + attitude1_03 + peruse03 + satis02 + satis04', ect_data).fit()\n",
    "\n",
    "lin_reg.summary()"
   ]
  },
  {
   "cell_type": "markdown",
   "id": "f09378ab-1d46-40d2-be5c-bcc546bb6b8a",
   "metadata": {},
   "source": [
    "### F-Test\n",
    "The results above present the final linear regression model, and we can see the *F*-statistic value is `42.30` and it's *p*-value is `2.22e-29`. This F-statistic is statistically significant considering *p*-value < .05, and the value of `42.30` gives us an idea of how much of the variation in `intent1_01` is explained by the model (attitude1_01 + attitude1_03 + peruse03 + satis02 + satis04). The R-squared value can also give us this information, with the adjusted R-squared telling us that the model is predicting about 50.8% of variation in our target variable. The final results are summarized:\n",
    "\n",
    "* *F*(5, 195) = 42.30 (*p* < .0001)\n",
    "\n",
    "### T-Tests\n",
    "Below are the results for the t-tests for each of the independent variables:\n",
    "* attitude1_01: *t* = 5.405 (*p* < .0001)\n",
    "* attitude1_03: *t* = -0.888 (*p* = .376)\n",
    "* peruse03: *t* = 4.108 (*p* < .0001)\n",
    "* satis02: *t* = 0.817 (*p* = .415)\n",
    "* satis04: *t* = 1.714 (*p* = 0.088)\n",
    "\n",
    "Based on these results, the variables `attitude1_01` and `peruse03` are highly statistically significant, and the variable `satis04` is weakly statistically significant (p<.1). The two statistically significant variables `attitude1_01` and `peruse03` are significant because they have a clear impact on the target variable `intent1_01`. These two variables also have the highest coefficient values of all independent variables, which are `0.4857` and `0.2353`, respectively. This means for a 1 point increase in `attitude1_01`, we would expect `intent1_01` to increase by 0.4857. Similarly, for a 1 point increase in `peruse03`, we would expect `intent1_01` to increase by 0.2353. "
   ]
  },
  {
   "cell_type": "markdown",
   "id": "c245fa85-d587-4dbb-88f8-2a545e48f34c",
   "metadata": {},
   "source": [
    "## Interpreting the Model\n",
    "We can construct the regression equation as follows:\n",
    "\n",
    "> intent1_01 = 1.22 + 0.49 attitude1_01  - 0.07 attitude1_03 + 0.24\tperuse03 + 0.06 satis02 + 0.13 satis04\n",
    "\n",
    "To interpret this equation:\n",
    "\n",
    "1. If attitude1_01 increases by 1, intent1_01 will increase by 0.49.\n",
    "2. If attitude1_03 increases by 1, intent1_01 will decrease by 0.07.\n",
    "3. If peruse03 increases by 1, intent1_01 will increase by 0.24.\n",
    "4. If satis02 increases by 1, intent1_01 will increase by 0.06.\n",
    "5. If satis04 increases by 1, intent1_01 will increase by 0.13.\n",
    "\n",
    "> However, it is important to remember the section above regarding the T-tests and which variables are statistically significant.\n",
    "\n"
   ]
  },
  {
   "cell_type": "markdown",
   "id": "9455590d-842e-4e6e-8c4d-a88bfb08c841",
   "metadata": {},
   "source": [
    "### Lab Complete!"
   ]
  }
 ],
 "metadata": {
  "kernelspec": {
   "display_name": "Python [conda env:base] *",
   "language": "python",
   "name": "conda-base-py"
  },
  "language_info": {
   "codemirror_mode": {
    "name": "ipython",
    "version": 3
   },
   "file_extension": ".py",
   "mimetype": "text/x-python",
   "name": "python",
   "nbconvert_exporter": "python",
   "pygments_lexer": "ipython3",
   "version": "3.12.7"
  }
 },
 "nbformat": 4,
 "nbformat_minor": 5
}
